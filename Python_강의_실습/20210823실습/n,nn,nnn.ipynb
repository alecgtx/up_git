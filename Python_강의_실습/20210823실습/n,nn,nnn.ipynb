{
 "cells": [
  {
   "cell_type": "code",
   "execution_count": 10,
   "id": "8f5d2b39",
   "metadata": {},
   "outputs": [
    {
     "name": "stdout",
     "output_type": "stream",
     "text": [
      "정수를 입력하세요: 7\n",
      "7+77+777=861\n"
     ]
    }
   ],
   "source": [
    "a = input('정수를 입력하세요: ')\n",
    "\n",
    "n = int(\"%s\" % a)\n",
    "nn = int(\"%s%s\" % (a,a))\n",
    "nnn = int(\"%s%s%s\" % (a,a,a))\n",
    "\n",
    "print(\"%d+%d+%d=%d\" % (n,nn,nnn,(n)+(nn)+(nnn)))\n",
    "\n"
   ]
  },
  {
   "cell_type": "code",
   "execution_count": null,
   "id": "02769060",
   "metadata": {},
   "outputs": [],
   "source": []
  }
 ],
 "metadata": {
  "kernelspec": {
   "display_name": "Python 3 (ipykernel)",
   "language": "python",
   "name": "python3"
  },
  "language_info": {
   "codemirror_mode": {
    "name": "ipython",
    "version": 3
   },
   "file_extension": ".py",
   "mimetype": "text/x-python",
   "name": "python",
   "nbconvert_exporter": "python",
   "pygments_lexer": "ipython3",
   "version": "3.8.10"
  }
 },
 "nbformat": 4,
 "nbformat_minor": 5
}
