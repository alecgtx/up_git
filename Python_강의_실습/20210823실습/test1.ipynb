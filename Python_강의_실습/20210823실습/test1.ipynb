{
 "cells": [
  {
   "cell_type": "markdown",
   "id": "5314f536",
   "metadata": {},
   "source": [
    "# 제목\n",
    "## 제목\n",
    "### 제목\n",
    "#### 제목\n",
    "\n",
    " - 오늘은 파이썬 첫시간입니다.\n",
    "  1. 오늘\n",
    "  2. 만나서\n",
    "  "
   ]
  },
  {
   "cell_type": "code",
   "execution_count": null,
   "id": "b1ec4bed",
   "metadata": {},
   "outputs": [],
   "source": [
    "hap = 0\n",
    "\n",
    "for i in range(1,11,1):\n",
    "        hap = hap + i\n",
    "        \n",
    "print(f'1에서 10까지의 합계: {hap}')"
   ]
  },
  {
   "cell_type": "code",
   "execution_count": null,
   "id": "5732207d",
   "metadata": {},
   "outputs": [],
   "source": [
    "import sys\n",
    "\n",
    "sys.executable\n",
    "\n"
   ]
  },
  {
   "cell_type": "code",
   "execution_count": null,
   "id": "7095403d",
   "metadata": {},
   "outputs": [],
   "source": [
    "sys.path\n"
   ]
  },
  {
   "cell_type": "code",
   "execution_count": null,
   "id": "197720b1",
   "metadata": {},
   "outputs": [],
   "source": [
    "pip list"
   ]
  },
  {
   "cell_type": "code",
   "execution_count": null,
   "id": "1d192f61",
   "metadata": {},
   "outputs": [],
   "source": [
    "pip show opnecv-python"
   ]
  },
  {
   "cell_type": "code",
   "execution_count": null,
   "id": "756ac976",
   "metadata": {},
   "outputs": [],
   "source": [
    "pip show jupyter"
   ]
  },
  {
   "cell_type": "code",
   "execution_count": null,
   "id": "4d4d87f1",
   "metadata": {},
   "outputs": [],
   "source": [
    "pip install tkinter"
   ]
  },
  {
   "cell_type": "code",
   "execution_count": null,
   "id": "6a2b7715",
   "metadata": {
    "scrolled": true
   },
   "outputs": [],
   "source": [
    "a = 345.5\n",
    "b = '345'\n",
    "c = [1,2,3,4,5]\n",
    "사과 = '사과'\n",
    "print(type(a))\n",
    "print(type(b))\n",
    "print(type(c))\n",
    "print(type(사과))"
   ]
  },
  {
   "cell_type": "markdown",
   "id": "565da298",
   "metadata": {},
   "source": [
    "### 정수의 진수 표현"
   ]
  },
  {
   "cell_type": "code",
   "execution_count": null,
   "id": "317b18b9",
   "metadata": {},
   "outputs": [],
   "source": [
    "b1 = 0b1010011\n",
    "o1 = 0o11234\n",
    "h1 = 0x10AA\n",
    "print(b1)\n",
    "print(o1)\n",
    "print(h1)"
   ]
  },
  {
   "cell_type": "code",
   "execution_count": null,
   "id": "e34a1aed",
   "metadata": {},
   "outputs": [],
   "source": [
    "b2 = bin(100)\n",
    "o2 = oct(100)\n",
    "h2 = hex(100)\n",
    "print(b2)\n",
    "print(o2)\n",
    "print(h2)"
   ]
  },
  {
   "cell_type": "code",
   "execution_count": null,
   "id": "c8a8f20a",
   "metadata": {},
   "outputs": [],
   "source": [
    "print(type(b1))\n",
    "print(type(o1))\n",
    "print(type(h1))\n",
    "print(type(b2))\n",
    "print(type(o2))\n",
    "print(type(h2))"
   ]
  },
  {
   "cell_type": "markdown",
   "id": "e3ef0169",
   "metadata": {},
   "source": [
    "### 문자열"
   ]
  },
  {
   "cell_type": "code",
   "execution_count": null,
   "id": "f5874868",
   "metadata": {},
   "outputs": [],
   "source": [
    "s = '파이선 수업 \\nok!'\n",
    "print(s)"
   ]
  },
  {
   "cell_type": "code",
   "execution_count": null,
   "id": "bf8020f9",
   "metadata": {},
   "outputs": [],
   "source": [
    "head = '사랑해요'\n",
    "tail = '파이선'\n",
    "print(head+tail)\n",
    "print(head , tail)"
   ]
  },
  {
   "cell_type": "markdown",
   "id": "b33c189f",
   "metadata": {},
   "source": [
    "### input"
   ]
  },
  {
   "cell_type": "code",
   "execution_count": null,
   "id": "a106af80",
   "metadata": {},
   "outputs": [],
   "source": [
    "a = input('숫자입력: ')\n",
    "print(type(a))\n",
    "\n",
    "print(int(a) + 200)\n"
   ]
  },
  {
   "cell_type": "code",
   "execution_count": null,
   "id": "90cddb80",
   "metadata": {},
   "outputs": [],
   "source": [
    "a = input('숫자입력: ')\n",
    "print(type(a))\n",
    "\n",
    "print(int(a) + 200)"
   ]
  },
  {
   "cell_type": "markdown",
   "id": "4d7125a0",
   "metadata": {},
   "source": [
    "### print()"
   ]
  },
  {
   "cell_type": "code",
   "execution_count": null,
   "id": "d6665894",
   "metadata": {},
   "outputs": [],
   "source": [
    "print('-'*30)\n",
    "print()\n",
    "print()\n",
    "print('-'*30)"
   ]
  },
  {
   "cell_type": "markdown",
   "id": "0178bcf4",
   "metadata": {},
   "source": [
    "### 4칙연산"
   ]
  },
  {
   "cell_type": "code",
   "execution_count": 1,
   "id": "7855f169",
   "metadata": {},
   "outputs": [
    {
     "name": "stdout",
     "output_type": "stream",
     "text": [
      "첫번째 숫자: 50\n",
      "두번째 숫자: 3\n",
      "입력된:  50 3\n",
      "50 + 3 = 53\n",
      "53\n",
      "47\n",
      "150\n",
      "16.666666666666668\n",
      "16\n",
      "2\n"
     ]
    }
   ],
   "source": [
    "num1 = int(input('첫번째 숫자: '))\n",
    "num2 = int(input('두번째 숫자: '))\n",
    "\n",
    "print('입력된: ', num1, num2)\n",
    "\n",
    "print('%d + %d = %d' % (num1, num2, (num1 + num2)) )\n",
    "print(num1 + num2)\n",
    "print(num1 - num2)\n",
    "print(num1 * num2)\n",
    "print(num1 / num2)\n",
    "print(num1 // num2)\n",
    "print(num1 % num2)"
   ]
  },
  {
   "cell_type": "code",
   "execution_count": null,
   "id": "8dc68263",
   "metadata": {},
   "outputs": [],
   "source": []
  },
  {
   "cell_type": "code",
   "execution_count": null,
   "id": "f4161075",
   "metadata": {},
   "outputs": [],
   "source": []
  }
 ],
 "metadata": {
  "kernelspec": {
   "display_name": "Python 3 (ipykernel)",
   "language": "python",
   "name": "python3"
  },
  "language_info": {
   "codemirror_mode": {
    "name": "ipython",
    "version": 3
   },
   "file_extension": ".py",
   "mimetype": "text/x-python",
   "name": "python",
   "nbconvert_exporter": "python",
   "pygments_lexer": "ipython3",
   "version": "3.8.10"
  }
 },
 "nbformat": 4,
 "nbformat_minor": 5
}
