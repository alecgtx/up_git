{
 "cells": [
  {
   "cell_type": "code",
   "execution_count": 3,
   "id": "04f7c7a3",
   "metadata": {},
   "outputs": [
    {
     "name": "stdout",
     "output_type": "stream",
     "text": [
      "첫번째 숫자: 50\n",
      "두번째 숫자: 3\n",
      "입력된:  50 3\n",
      "50 + 3 = 53\n",
      "50 + 3 = 47\n",
      "50 + 3 = 150\n",
      "50 + 3 = 16\n",
      "16.666666666666668\n",
      "16\n",
      "2\n"
     ]
    }
   ],
   "source": [
    "num1 = int(input('첫번째 숫자: '))\n",
    "num2 = int(input('두번째 숫자: '))\n",
    "\n",
    "print('입력된: ', num1, num2)\n",
    "\n",
    "print('%d + %d = %d' % (num1, num2, (num1 + num2)) )\n",
    "print('%d + %d = %d' % (num1, num2, (num1 - num2)) )\n",
    "print('%d + %d = %d' % (num1, num2, (num1 * num2)) )\n",
    "print('%d + %d = %d' % (num1, num2, (num1 / num2)) )\n",
    "print(num1 / num2)\n",
    "print(num1 // num2)\n",
    "print(num1 % num2)"
   ]
  },
  {
   "cell_type": "code",
   "execution_count": 15,
   "id": "15bc4cb7",
   "metadata": {},
   "outputs": [
    {
     "name": "stdout",
     "output_type": "stream",
     "text": [
      "첫번째 숫자: 50\n",
      "두번째 숫자: 3\n",
      "덧셈: 50 + 3 = 53\n",
      "뺄셈: 50 - 3 = 47\n",
      "곱셈: 50 * 3 = 150\n",
      "몫: 50 // 3 = 16\n"
     ]
    },
    {
     "ename": "ValueError",
     "evalue": "unsupported format character '%' (0x25) at index 10",
     "output_type": "error",
     "traceback": [
      "\u001b[1;31m---------------------------------------------------------------------------\u001b[0m",
      "\u001b[1;31mValueError\u001b[0m                                Traceback (most recent call last)",
      "\u001b[1;32m~\\AppData\\Local\\Temp/ipykernel_9108/1737838007.py\u001b[0m in \u001b[0;36m<module>\u001b[1;34m\u001b[0m\n\u001b[0;32m      7\u001b[0m \u001b[0mprint\u001b[0m\u001b[1;33m(\u001b[0m\u001b[1;34m'곱셈: %d * %d = %d'\u001b[0m \u001b[1;33m%\u001b[0m \u001b[1;33m(\u001b[0m\u001b[0mnum1\u001b[0m\u001b[1;33m,\u001b[0m \u001b[0mnum2\u001b[0m\u001b[1;33m,\u001b[0m \u001b[1;33m(\u001b[0m\u001b[0mnum1\u001b[0m \u001b[1;33m*\u001b[0m \u001b[0mnum2\u001b[0m\u001b[1;33m)\u001b[0m\u001b[1;33m)\u001b[0m \u001b[1;33m)\u001b[0m\u001b[1;33m\u001b[0m\u001b[1;33m\u001b[0m\u001b[0m\n\u001b[0;32m      8\u001b[0m \u001b[0mprint\u001b[0m\u001b[1;33m(\u001b[0m\u001b[1;34m'몫: %d // %d = %d'\u001b[0m \u001b[1;33m%\u001b[0m \u001b[1;33m(\u001b[0m\u001b[0mnum1\u001b[0m\u001b[1;33m,\u001b[0m \u001b[0mnum2\u001b[0m\u001b[1;33m,\u001b[0m \u001b[1;33m(\u001b[0m\u001b[0mnum1\u001b[0m \u001b[1;33m//\u001b[0m \u001b[0mnum2\u001b[0m\u001b[1;33m)\u001b[0m\u001b[1;33m)\u001b[0m \u001b[1;33m)\u001b[0m\u001b[1;33m\u001b[0m\u001b[1;33m\u001b[0m\u001b[0m\n\u001b[1;32m----> 9\u001b[1;33m \u001b[0mprint\u001b[0m\u001b[1;33m(\u001b[0m\u001b[1;34m'나머지: %d % %d = %d'\u001b[0m \u001b[1;33m%\u001b[0m \u001b[1;33m(\u001b[0m\u001b[0mnum1\u001b[0m\u001b[1;33m,\u001b[0m \u001b[0mnum2\u001b[0m\u001b[1;33m,\u001b[0m \u001b[1;33m(\u001b[0m\u001b[0mnum1\u001b[0m \u001b[1;33m%\u001b[0m \u001b[0mnum2\u001b[0m\u001b[1;33m)\u001b[0m\u001b[1;33m)\u001b[0m \u001b[1;33m)\u001b[0m\u001b[1;33m\u001b[0m\u001b[1;33m\u001b[0m\u001b[0m\n\u001b[0m",
      "\u001b[1;31mValueError\u001b[0m: unsupported format character '%' (0x25) at index 10"
     ]
    }
   ],
   "source": [
    "num1 = int(input('첫번째 숫자: '))\n",
    "num2 = int(input('두번째 숫자: '))\n",
    "\n",
    "\n",
    "print('덧셈: %d + %d = %d' % (num1, num2, (num1 + num2)) )\n",
    "print('뺄셈: %d - %d = %d' % (num1, num2, (num1 - num2)) )\n",
    "print('곱셈: %d * %d = %d' % (num1, num2, (num1 * num2)) )\n",
    "print('몫: %d // %d = %d' % (num1, num2, (num1 // num2)) )\n",
    "print('나머지: %d % %d = %d' % (num1, num2, (num1 % num2)) )"
   ]
  },
  {
   "cell_type": "markdown",
   "id": "386b4dff",
   "metadata": {},
   "source": [
    "num1 = int(input('첫번째 숫자: '))\n",
    "num2 = int(input('두번째 숫자: '))\n",
    "\n",
    "\n",
    "print('덧셈: %d + %d = %d' % (num1, num2, (num1 + num2)) )\n",
    "print('뺄셈: %d - %d = %d' % (num1, num2, (num1 - num2)) )\n",
    "print('곱셈: %d * %d = %d' % (num1, num2, (num1 * num2)) )\n",
    "print('몫: %d // %d = %d' % (num1, num2, (num1 // num2)) )\n",
    "print('나머지: %d %% %d = %d' % (num1, num2, (num1 % num2)) )"
   ]
  },
  {
   "cell_type": "code",
   "execution_count": 16,
   "id": "d60c6362",
   "metadata": {},
   "outputs": [
    {
     "name": "stdout",
     "output_type": "stream",
     "text": [
      "첫번째 숫자: 50\n",
      "두번째 숫자: 3\n",
      "덧셈: 50 + 3 = 53\n",
      "뺄셈: 50 - 3 = 47\n",
      "곱셈: 50 * 3 = 150\n",
      "몫: 50 // 3 = 16\n",
      "나머지: 50 % 3 = 2\n"
     ]
    }
   ],
   "source": [
    "num1 = int(input('첫번째 숫자: '))\n",
    "num2 = int(input('두번째 숫자: '))\n",
    "\n",
    "\n",
    "print('덧셈: %d + %d = %d' % (num1, num2, (num1 + num2)) )\n",
    "print('뺄셈: %d - %d = %d' % (num1, num2, (num1 - num2)) )\n",
    "print('곱셈: %d * %d = %d' % (num1, num2, (num1 * num2)) )\n",
    "print('몫: %d // %d = %d' % (num1, num2, (num1 // num2)) )\n",
    "print('나머지: %d %% %d = %d' % (num1, num2, (num1 % num2)) )"
   ]
  },
  {
   "cell_type": "code",
   "execution_count": 20,
   "id": "e9a01697",
   "metadata": {},
   "outputs": [
    {
     "name": "stdout",
     "output_type": "stream",
     "text": [
      "속도를 입력해 주세요: 200\n",
      "거리를 입력해 주세요: 50\n",
      "속도= 200\n",
      "거리= 50\n",
      "시간: 50 / 200 = 0.250000\n"
     ]
    }
   ],
   "source": [
    "num1 = int(input('속도를 입력해 주세요: '))\n",
    "num2 = int(input('거리를 입력해 주세요: '))\n",
    "\n",
    "\n",
    "print('속도= %d' % (num1))\n",
    "print('거리= %d' % (num2))\n",
    "print('시간: %d / %d = %f' % (num2, num1, (num2 / num1)) )"
   ]
  },
  {
   "cell_type": "code",
   "execution_count": 22,
   "id": "925df261",
   "metadata": {},
   "outputs": [
    {
     "name": "stdout",
     "output_type": "stream",
     "text": [
      "정수를 입력해 주세요: 7\n",
      "7 + 14 + 21 = 42\n"
     ]
    }
   ],
   "source": [
    "a = int(input('정수를 입력해 주세요: '))\n",
    "\n",
    "n = int(a)\n",
    "nn = int(a+a)\n",
    "nnn = int(a+a+a)\n",
    "print(f'{n} + {nn} + {nnn} = {n+nn+nnn}')\n",
    "      "
   ]
  },
  {
   "cell_type": "code",
   "execution_count": null,
   "id": "d2ca2375",
   "metadata": {},
   "outputs": [],
   "source": []
  }
 ],
 "metadata": {
  "kernelspec": {
   "display_name": "Python 3 (ipykernel)",
   "language": "python",
   "name": "python3"
  },
  "language_info": {
   "codemirror_mode": {
    "name": "ipython",
    "version": 3
   },
   "file_extension": ".py",
   "mimetype": "text/x-python",
   "name": "python",
   "nbconvert_exporter": "python",
   "pygments_lexer": "ipython3",
   "version": "3.8.10"
  }
 },
 "nbformat": 4,
 "nbformat_minor": 5
}
