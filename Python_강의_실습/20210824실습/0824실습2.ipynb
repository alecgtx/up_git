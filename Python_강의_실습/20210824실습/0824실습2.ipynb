{
 "cells": [
  {
   "cell_type": "markdown",
   "id": "cd5df9d7",
   "metadata": {},
   "source": [
    "### if"
   ]
  },
  {
   "cell_type": "code",
   "execution_count": 2,
   "id": "0e829c93",
   "metadata": {},
   "outputs": [
    {
     "name": "stdout",
     "output_type": "stream",
     "text": [
      "a는 99보다 크다\n"
     ]
    }
   ],
   "source": [
    "a = 100\n",
    "if a > 99 :\n",
    "    print(\"a는 99보다 크다\")"
   ]
  },
  {
   "cell_type": "code",
   "execution_count": 4,
   "id": "c9e4a636",
   "metadata": {},
   "outputs": [
    {
     "name": "stdout",
     "output_type": "stream",
     "text": [
      "a는 99보다 작거나 같다\n"
     ]
    }
   ],
   "source": [
    "a = 80\n",
    "if a > 99 :\n",
    "    print(\"a는 99보다 크다\")\n",
    "else :\n",
    "    print(\"a는 99보다 작거나 같다\")\n",
    "    "
   ]
  },
  {
   "cell_type": "code",
   "execution_count": 5,
   "id": "4f03c806",
   "metadata": {},
   "outputs": [
    {
     "name": "stdout",
     "output_type": "stream",
     "text": [
      "a는 85보다 작거나 같다\n"
     ]
    }
   ],
   "source": [
    "a = 80\n",
    "if a > 99 :\n",
    "    print(\"a는 99보다 크다\")\n",
    "else :\n",
    "    if a > 85 :\n",
    "        print(\"a는 85보다 크다\")\n",
    "    else :\n",
    "        print(\"a는 85보다 작거나 같다\")"
   ]
  },
  {
   "cell_type": "code",
   "execution_count": 15,
   "id": "20fe4502",
   "metadata": {},
   "outputs": [
    {
     "name": "stdout",
     "output_type": "stream",
     "text": [
      "숫자를 입력해 주세요: 47\n",
      "입력된수 : 47 ===> 홀수\n"
     ]
    }
   ],
   "source": [
    "x = int(input(\"숫자를 입력해 주세요: \"))\n",
    "if x % 2 == 0 :\n",
    "    print(\"입력된수 : %d ===> 짝수\" % x)\n",
    "else :\n",
    "    print(\"입력된수 : %d ===> 홀수\" % x)"
   ]
  },
  {
   "cell_type": "code",
   "execution_count": 17,
   "id": "9b33fa43",
   "metadata": {},
   "outputs": [
    {
     "name": "stdout",
     "output_type": "stream",
     "text": [
      "성적을 입력해 주세요: 55\n",
      "55 는 f등급\n"
     ]
    }
   ],
   "source": [
    "a = int(input(\"성적을 입력해 주세요: \"))\n",
    "if a >= 90 :\n",
    "    print(\"%d 는 a등급\" % a)\n",
    "elif a >= 80:\n",
    "    print(\"%d 는 b등급\" % a)\n",
    "elif a >= 70:\n",
    "    print(\"%d 는 c등급\" % a)\n",
    "elif a >= 60:\n",
    "    print(\"%d 는 d등급\" % a)\n",
    "else :\n",
    "    print(\"%d 는 f등급\" % a)"
   ]
  },
  {
   "cell_type": "code",
   "execution_count": 37,
   "id": "ee0ce21e",
   "metadata": {},
   "outputs": [
    {
     "name": "stdout",
     "output_type": "stream",
     "text": [
      "주민번호를 입력해 주세요: 012020-1009955\n",
      "1901\n"
     ]
    }
   ],
   "source": [
    "x = input(\"주민번호를 입력해 주세요: \")\n",
    "\n",
    "y = x[0:2]\n",
    "m = x[2:4]\n",
    "d = x[4:6]\n",
    "g = x[7]\n",
    "\n",
    "\n",
    "if int(y) > 99 :\n",
    "    print(\"20%s\" % y)\n",
    "else :\n",
    "    print(\"19%s\" % y)"
   ]
  },
  {
   "cell_type": "markdown",
   "id": "99f9ba6e",
   "metadata": {},
   "source": [
    "# "
   ]
  },
  {
   "cell_type": "code",
   "execution_count": 42,
   "id": "9b154e60",
   "metadata": {},
   "outputs": [
    {
     "name": "stdout",
     "output_type": "stream",
     "text": [
      "주민번호를 입력해 주세요: 700120-1009955\n",
      "1970년 01월 20일, 51세, 남성\n"
     ]
    }
   ],
   "source": [
    "import datetime\n",
    "now = datetime.datetime.now()\n",
    "c_year = now.year   #\n",
    "\n",
    "x = input(\"주민번호를 입력해 주세요: \")\n",
    "\n",
    "yy = x[0:2]\n",
    "mm = x[2:4]\n",
    "dd = x[4:6]\n",
    "g = x[7]\n",
    "\n",
    "if g == \"1\" :\n",
    "    성별 = \"남성\"\n",
    "    년도 = 1900 + int(yy)\n",
    "if g == \"2\" :\n",
    "    성별 = \"여성\"\n",
    "    년도 = 1900 + int(yy)\n",
    "if g == \"3\" :\n",
    "    성별 = \"남성\"\n",
    "    년도 = 2000 + int(yy)\n",
    "if g == \"4\" :\n",
    "    성별 = \"여성\"\n",
    "    년도 = 2000 + int(yy)\n",
    "\n",
    "나이 = int(c_year) - 년도\n",
    "print(f\"{년도}년 {mm}월 {dd}일, {나이}세, {성별}\")\n"
   ]
  },
  {
   "cell_type": "code",
   "execution_count": 3,
   "id": "b73bffcf",
   "metadata": {},
   "outputs": [
    {
     "name": "stdout",
     "output_type": "stream",
     "text": [
      "주민번호를 입력해 주세요: 700120-1009955\n",
      "1970년 01월 20일, 51세, 남성\n"
     ]
    }
   ],
   "source": [
    "import datetime\n",
    "now = datetime.datetime.now()\n",
    "c_year = now.year   #\n",
    "\n",
    "x = input(\"주민번호를 입력해 주세요: \")\n",
    "\n",
    "yy = int(x[0:2])\n",
    "g = x[7]\n",
    "\n",
    "if g == \"1\" :\n",
    "    성별 = \"남성\"\n",
    "    yy = 1900 + int(yy)\n",
    "if g == \"2\" :\n",
    "    성별 = \"여성\"\n",
    "    yy = 1900 + int(yy)\n",
    "if g == \"3\" :\n",
    "    성별 = \"남성\"\n",
    "    yy = 2000 + int(yy)\n",
    "if g == \"4\" :\n",
    "    성별 = \"여성\"\n",
    "    yy = 2000 + int(yy)\n",
    "\n",
    "\n",
    "print(f\"{yy}년 {x[2:4]}월 {x[4:6]}일, {int(now.year) - yy}세, {성별}\")"
   ]
  },
  {
   "cell_type": "markdown",
   "id": "a990a703",
   "metadata": {},
   "source": [
    "### 괄호"
   ]
  },
  {
   "cell_type": "code",
   "execution_count": 13,
   "id": "d2fbd62f",
   "metadata": {},
   "outputs": [
    {
     "ename": "SyntaxError",
     "evalue": "invalid syntax (Temp/ipykernel_1000/2416146719.py, line 9)",
     "output_type": "error",
     "traceback": [
      "\u001b[1;36m  File \u001b[1;32m\"C:\\Users\\PC021\\AppData\\Local\\Temp/ipykernel_1000/2416146719.py\"\u001b[1;36m, line \u001b[1;32m9\u001b[0m\n\u001b[1;33m    elif i == \")\" :\u001b[0m\n\u001b[1;37m    ^\u001b[0m\n\u001b[1;31mSyntaxError\u001b[0m\u001b[1;31m:\u001b[0m invalid syntax\n"
     ]
    }
   ],
   "source": [
    "a_list = list(input(\"괄호 :\"))\n",
    "print(a_list)\n",
    "\n",
    "t = 0\n",
    "\n",
    "for i in a_list :\n",
    "    if i == \"(\" :\n",
    "        t = t + 1\n",
    "        elif i == \")\" :\n",
    "            t = t - 1\n",
    "            \n",
    "        if t < 0 :\n",
    "            break\n",
    "\n",
    "    else :\n",
    "\n",
    "if t == 0 :\n",
    "    print(\"True\")\n",
    "else :\n",
    "    print(\"False\")\n"
   ]
  },
  {
   "cell_type": "code",
   "execution_count": 12,
   "id": "6a9de54e",
   "metadata": {},
   "outputs": [
    {
     "name": "stdout",
     "output_type": "stream",
     "text": [
      " [커피 자동 주문 메뉴]\n",
      "--------------------------------------\n",
      "- 아메리카노는 2500원\n",
      "- 카페라테는 3000원\n",
      "- 카푸치노는 3000원\n",
      "입니다. 원하시는 커피의 종류와 잔수를 입력하세요.\n",
      "--------------------------------------\n",
      "아메리카노 몇잔?: 3\n",
      "카페라테 몇잔?: 5\n",
      "카푸치노 몇잔?: 2\n",
      "지불할 총금액은 28500 원 입니다.\n",
      "돈을 넣어주세요: 30000\n",
      "거스름돈은 1500 원 입니다.\n"
     ]
    }
   ],
   "source": [
    "menu = \"\"\" [커피 자동 주문 메뉴]\n",
    "--------------------------------------\n",
    "- 아메리카노는 2500원\n",
    "- 카페라테는 3000원\n",
    "- 카푸치노는 3000원\n",
    "입니다. 원하시는 커피의 종류와 잔수를 입력하세요.\n",
    "--------------------------------------\n",
    "\"\"\"\n",
    "coffee1 = int(input(menu+ \"아메리카노 몇잔?: \"))\n",
    "coffee2 = int(input(\"카페라테 몇잔?: \"))\n",
    "coffee3 = int(input(\"카푸치노 몇잔?: \"))\n",
    "\n",
    "total = coffee1*2500 + coffee2*3000 + coffee3*3000\n",
    "print(f\"지불할 총금액은 {total} 원 입니다.\")\n",
    "      \n",
    "money = int(input(\"돈을 넣어주세요: \"))\n",
    "if money >= total :\n",
    "      print(f\"거스름돈은 {money - total} 원 입니다.\")\n",
    "else :\n",
    "      print(f\"금액이 부족합니다. {total - money}원을 더 넣어주세요.\")"
   ]
  },
  {
   "cell_type": "markdown",
   "id": "8204fbca",
   "metadata": {},
   "source": [
    "#### 난수 : random"
   ]
  },
  {
   "cell_type": "code",
   "execution_count": 28,
   "id": "b9be0f09",
   "metadata": {},
   "outputs": [
    {
     "name": "stdout",
     "output_type": "stream",
     "text": [
      "20\n",
      "10\n",
      "0.8829551178841675\n",
      "19.857541390083696\n",
      "[1, 2, 3, 5, 4]\n"
     ]
    },
    {
     "data": {
      "text/plain": [
       "5"
      ]
     },
     "execution_count": 28,
     "metadata": {},
     "output_type": "execute_result"
    }
   ],
   "source": [
    "import random\n",
    "\n",
    "print(random.randint(10, 20))\n",
    "print(random.randrange(10, 20, 2))\n",
    "print(random.random())\n",
    "print(random.uniform(10, 20))\n",
    "\n",
    "a_list = [1,2,3,4,5]   # list(range(1,6))\n",
    "random.shuffle(a_list)\n",
    "print(a_list)\n",
    "\n",
    "random.choice(a_list)\n"
   ]
  },
  {
   "cell_type": "code",
   "execution_count": 38,
   "id": "0f7c8c4d",
   "metadata": {},
   "outputs": [
    {
     "name": "stdout",
     "output_type": "stream",
     "text": [
      "주사위를 던집니다!\n",
      "-----------------------\n",
      "A의 주사위의 숫자는 1 입니다.\n",
      "B의 주사위의 숫자는 5 입니다.\n",
      "-----------------------\n",
      "B가 이겼습니다.\n"
     ]
    }
   ],
   "source": [
    "import random\n",
    "\n",
    "print(\"\"\"주사위를 던집니다!\n",
    "-----------------------\"\"\")\n",
    "\n",
    "a = random.randrange(1,7)\n",
    "b = random.randrange(1,7)\n",
    "\n",
    "\n",
    "print(f\"A의 주사위의 숫자는 {a} 입니다.\")\n",
    "print(f\"B의 주사위의 숫자는 {b} 입니다.\")\n",
    "\n",
    "\n",
    "print(\"-----------------------\")\n",
    "\n",
    "if a > b:\n",
    "    print('A가 이겼습니다.')\n",
    "else:\n",
    "    print('B가 이겼습니다.')"
   ]
  },
  {
   "cell_type": "markdown",
   "id": "958cf0f5",
   "metadata": {},
   "source": [
    "### for"
   ]
  },
  {
   "cell_type": "code",
   "execution_count": 41,
   "id": "88c8388d",
   "metadata": {},
   "outputs": [
    {
     "data": {
      "text/plain": [
       "[0, 1, 2, 3, 4, 5, 6, 7, 8, 9]"
      ]
     },
     "execution_count": 41,
     "metadata": {},
     "output_type": "execute_result"
    }
   ],
   "source": [
    "a_list = list(range(10))\n",
    "a_list"
   ]
  },
  {
   "cell_type": "code",
   "execution_count": 40,
   "id": "505544d7",
   "metadata": {},
   "outputs": [
    {
     "data": {
      "text/plain": [
       "[1, 3, 5, 7, 9]"
      ]
     },
     "execution_count": 40,
     "metadata": {},
     "output_type": "execute_result"
    }
   ],
   "source": [
    "a_list = list(range(1, 11, 2))\n",
    "a_list"
   ]
  },
  {
   "cell_type": "code",
   "execution_count": 43,
   "id": "14048ffa",
   "metadata": {},
   "outputs": [
    {
     "name": "stdout",
     "output_type": "stream",
     "text": [
      "[0] python\n",
      "[1] python\n",
      "[2] python\n",
      "[3] python\n",
      "[4] python\n",
      "[5] python\n",
      "[6] python\n",
      "[7] python\n",
      "[8] python\n",
      "[9] python\n"
     ]
    }
   ],
   "source": [
    "alist = [0,1,2,3,4,5,6,7,8,9]\n",
    "for i in alist :\n",
    "    print(f\"[{i}] python\")"
   ]
  },
  {
   "cell_type": "code",
   "execution_count": 42,
   "id": "cc7a736f",
   "metadata": {},
   "outputs": [
    {
     "name": "stdout",
     "output_type": "stream",
     "text": [
      "[0] python\n",
      "[1] python\n",
      "[2] python\n",
      "[3] python\n",
      "[4] python\n",
      "[5] python\n",
      "[6] python\n",
      "[7] python\n",
      "[8] python\n",
      "[9] python\n"
     ]
    }
   ],
   "source": [
    "for i in range(10) :\n",
    "    print(f\"[{i}] python\")"
   ]
  },
  {
   "cell_type": "code",
   "execution_count": 47,
   "id": "c61407f0",
   "metadata": {},
   "outputs": [
    {
     "name": "stdout",
     "output_type": "stream",
     "text": [
      "[apple] python\n",
      "[b] python\n",
      "[c] python\n",
      "[d] python\n",
      "[e] python\n",
      "[f] python\n",
      "[g] python\n",
      "[h] python\n",
      "[i] python\n",
      "[j] python\n",
      "\n",
      "[0] [apple] python\n",
      "[1] [b] python\n",
      "[2] [c] python\n",
      "[3] [d] python\n",
      "[4] [e] python\n",
      "[5] [f] python\n",
      "[6] [g] python\n",
      "[7] [h] python\n",
      "[8] [i] python\n",
      "[9] [j] python\n"
     ]
    }
   ],
   "source": [
    "alist = ['apple','b','c','d','e','f','g','h','i','j']\n",
    "for i in alist :\n",
    "    print(f\"[{i}] python\")\n",
    "print()\n",
    "for i, value in enumerate(alist) :\n",
    "    print(f\"[{i}] [{value}] python\")"
   ]
  },
  {
   "cell_type": "code",
   "execution_count": 48,
   "id": "15f400b1",
   "metadata": {},
   "outputs": [
    {
     "name": "stdout",
     "output_type": "stream",
     "text": [
      "1~10까지 합: 55\n"
     ]
    }
   ],
   "source": [
    "hap = 0\n",
    "\n",
    "for i in range(1,11,1) :\n",
    "    hap = hap + i\n",
    "print(f'1~10까지 합: {hap}')\n"
   ]
  },
  {
   "cell_type": "code",
   "execution_count": 49,
   "id": "199d7252",
   "metadata": {},
   "outputs": [
    {
     "data": {
      "text/plain": [
       "55"
      ]
     },
     "execution_count": 49,
     "metadata": {},
     "output_type": "execute_result"
    }
   ],
   "source": [
    "sum(list(range(1,11)))"
   ]
  },
  {
   "cell_type": "code",
   "execution_count": 50,
   "id": "21b34561",
   "metadata": {},
   "outputs": [
    {
     "name": "stdout",
     "output_type": "stream",
     "text": [
      "list[70, 30, 40, 30, 50])의 모든 요소의 합은: 220\n"
     ]
    }
   ],
   "source": [
    "alist = [70,30,40,30,50]\n",
    "hap = 0\n",
    "\n",
    "for i in alist :\n",
    "    hap = hap + i\n",
    "print(f'list{alist})의 모든 요소의 합은: {hap}')"
   ]
  },
  {
   "cell_type": "code",
   "execution_count": null,
   "id": "52106627",
   "metadata": {},
   "outputs": [],
   "source": []
  },
  {
   "cell_type": "code",
   "execution_count": 51,
   "id": "e2fa63ba",
   "metadata": {},
   "outputs": [
    {
     "name": "stdout",
     "output_type": "stream",
     "text": [
      "합계를 구할 숫자 입력:55\n",
      "1~55까지 합: 1540\n"
     ]
    }
   ],
   "source": [
    "n = int(input('합계를 구할 숫자 입력:'))\n",
    "\n",
    "hap = n\n",
    "\n",
    "for i in range(1,n) :\n",
    "    hap = hap + i\n",
    "print(f'1~{n}까지 합: {hap}')"
   ]
  },
  {
   "cell_type": "code",
   "execution_count": 57,
   "id": "9423c3bb",
   "metadata": {},
   "outputs": [
    {
     "name": "stdout",
     "output_type": "stream",
     "text": [
      "합계를 구할 숫자 입력:100\n",
      "1~100까지 짝수를 제외한 합: 2500\n"
     ]
    }
   ],
   "source": [
    "n = int(input('합계를 구할 숫자 입력:'))\n",
    "\n",
    "hap = 0\n",
    "\n",
    "for i in range(1,n+1,2) :\n",
    "    hap += i\n",
    "print(f'1~{n}까지 짝수를 제외한 합: {hap}')"
   ]
  },
  {
   "cell_type": "code",
   "execution_count": 63,
   "id": "ec9aa538",
   "metadata": {},
   "outputs": [
    {
     "name": "stdout",
     "output_type": "stream",
     "text": [
      "몇단을 출력 할까요?:5\n",
      "5단 5*9=45\n"
     ]
    }
   ],
   "source": [
    "n = int(input('몇단을 출력 할까요?:'))\n",
    "\n",
    "\n",
    "for i in range(1,10,1) :\n",
    "    hap = n * i\n",
    "\n",
    "print(f'{n}단 {n}*{i}={hap}')"
   ]
  },
  {
   "cell_type": "code",
   "execution_count": null,
   "id": "146f8287",
   "metadata": {},
   "outputs": [],
   "source": []
  }
 ],
 "metadata": {
  "kernelspec": {
   "display_name": "Python 3 (ipykernel)",
   "language": "python",
   "name": "python3"
  },
  "language_info": {
   "codemirror_mode": {
    "name": "ipython",
    "version": 3
   },
   "file_extension": ".py",
   "mimetype": "text/x-python",
   "name": "python",
   "nbconvert_exporter": "python",
   "pygments_lexer": "ipython3",
   "version": "3.8.10"
  }
 },
 "nbformat": 4,
 "nbformat_minor": 5
}
