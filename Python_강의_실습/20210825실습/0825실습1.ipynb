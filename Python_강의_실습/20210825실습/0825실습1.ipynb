{
 "cells": [
  {
   "cell_type": "code",
   "execution_count": null,
   "id": "38a93502",
   "metadata": {},
   "outputs": [],
   "source": [
    "\n",
    "for i in range(2,10,1):\n",
    "    print('# %d 단' % i, end=',')\n",
    "    print()\n",
    "    for j in range(1,10,1):\n",
    "        sum = i * j\n",
    "\n",
    "        print(f'{j}*{i}={sum}')\n",
    "        "
   ]
  },
  {
   "cell_type": "code",
   "execution_count": null,
   "id": "47bbc244",
   "metadata": {},
   "outputs": [],
   "source": [
    "for i in range(2,10,1):\n",
    "    print('# %d 단' % i, end='')\n",
    "    for j in range(1,10,1):\n",
    "        sum = i * j\n",
    "\n",
    "        print('%d*%d=%d' %(j, i, sum), end='')\n"
   ]
  },
  {
   "cell_type": "code",
   "execution_count": null,
   "id": "d34f5b8c",
   "metadata": {},
   "outputs": [],
   "source": [
    "for i in range(2,10,1):\n",
    "    print(f'# {i:2}단', end=' ')\n",
    "print()\n",
    "for i in range(1,10):\n",
    "    for dan in range(2,10):\n",
    "        print(f'{dan}x{i}={dan*i:2}', end=' ')\n",
    "    print()"
   ]
  },
  {
   "cell_type": "code",
   "execution_count": null,
   "id": "a320ced0",
   "metadata": {},
   "outputs": [],
   "source": [
    "v = 1\n",
    "for i in range(3):\n",
    "    for j in range(4):\n",
    "        print(f'{v:2}', end=' ')\n",
    "        v += 1\n",
    "    print()"
   ]
  },
  {
   "cell_type": "code",
   "execution_count": null,
   "id": "fb9b65a3",
   "metadata": {},
   "outputs": [],
   "source": [
    "for i in range(3):\n",
    "    v = 0\n",
    "    for j in range(4):\n",
    "    \n",
    "        print(f'{v+1+i:2}', end=' ')\n",
    "        v += 3    \n",
    "    print()"
   ]
  },
  {
   "cell_type": "code",
   "execution_count": null,
   "id": "4875c081",
   "metadata": {},
   "outputs": [],
   "source": [
    "import random\n",
    "\n",
    "d1,d2,d3,d4,d5,d6 = 0,0,0,0,0,0\n",
    "\n",
    "for i in range(100):\n",
    "    num = random.randint(1,6)\n",
    "    \n",
    "    if num == 1: d1 += 1\n",
    "    if num == 2: d2 += 1\n",
    "    if num == 3: d3 += 1\n",
    "    if num == 4: d4 += 1\n",
    "    if num == 5: d5 += 1\n",
    "    if num == 6: d6 += 1\n",
    "\n",
    "print(f'주사위의 숫자별 갯수 :')\n",
    "print(f'D1[{d1}], D2[{d2}], D3[{d3}], D4[{d4}], D5[{d5}], D6[{d6}]')\n",
    "\n",
    "max_v = d1\n",
    "if max_v < d2 :\n",
    "    max_v = d2\n",
    "if max_v < d3 :\n",
    "    max_v = d3    \n",
    "if max_v < d4 :\n",
    "    max_v = d4\n",
    "if max_v < d5 :\n",
    "    max_v = d5\n",
    "if max_v < d6 :\n",
    "    max_v = d6\n",
    "\n",
    "\n",
    "\n",
    "print(f'가장 많이 나온 주사위 숫자: [{max_v}]')\n",
    "\n"
   ]
  },
  {
   "cell_type": "code",
   "execution_count": null,
   "id": "36e7c7a6",
   "metadata": {},
   "outputs": [],
   "source": [
    "import random\n",
    "\n",
    "d1,d2,d3,d4,d5,d6 = 0,0,0,0,0,0\n",
    "\n",
    "for i in range(100):\n",
    "    num = random.randint(1,6)\n",
    "    \n",
    "    if num == 1: d1 += 1\n",
    "    if num == 2: d2 += 1\n",
    "    if num == 3: d3 += 1\n",
    "    if num == 4: d4 += 1\n",
    "    if num == 5: d5 += 1\n",
    "    if num == 6: d6 += 1\n",
    "\n",
    "print(f'주사위의 숫자별 갯수 :')\n",
    "print(f'D1[{d1}], D2[{d2}], D3[{d3}], D4[{d4}], D5[{d5}], D6[{d6}]')\n",
    "\n",
    "max_d, max_v = 1, d1\n",
    "if max_v < d2 :\n",
    "    max_d = 2\n",
    "    max_v = d2\n",
    "if max_v < d3 :\n",
    "    max_d = 3\n",
    "    max_v = d3    \n",
    "if max_v < d4 :\n",
    "    max_d = 4\n",
    "    max_v = d4\n",
    "if max_v < d5 :\n",
    "    max_d = 5\n",
    "    max_v = d5\n",
    "if max_v < d6 :\n",
    "    max_d = 6\n",
    "    max_v = d6\n",
    "\n",
    "\n",
    "\n",
    "print(f'가장 많이 나온 주사위 숫자: [{max_d}], 횟수{max_v}')\n",
    "\n"
   ]
  },
  {
   "cell_type": "code",
   "execution_count": null,
   "id": "27a23386",
   "metadata": {},
   "outputs": [],
   "source": [
    "i = 0\n",
    "while i < 3 :\n",
    "    print(f'{i}')\n",
    "    i = i + 1\n"
   ]
  },
  {
   "cell_type": "markdown",
   "id": "f48ef77c",
   "metadata": {},
   "source": [
    "### while"
   ]
  },
  {
   "cell_type": "code",
   "execution_count": null,
   "id": "c562159f",
   "metadata": {},
   "outputs": [],
   "source": [
    "hap = 0\n",
    "for i in range(1,101):\n",
    "    hap += i\n",
    "print(hap)"
   ]
  },
  {
   "cell_type": "code",
   "execution_count": null,
   "id": "9177ec5e",
   "metadata": {},
   "outputs": [],
   "source": [
    "hap, i = 0, 1\n",
    "while True:\n",
    "        hap += i\n",
    "        i += 1\n",
    "        if i > 100:\n",
    "            break\n",
    "print(hap)"
   ]
  },
  {
   "cell_type": "code",
   "execution_count": null,
   "id": "790f9410",
   "metadata": {},
   "outputs": [],
   "source": [
    "hap, i = 0, 0\n",
    "while True:\n",
    "        hap += i\n",
    "        i += 1\n",
    "        if i > 10:\n",
    "            break\n",
    "        print(f'나무를 {i}번 찍었습니다.')\n",
    "print(f'나무 넘어갑니다~')"
   ]
  },
  {
   "cell_type": "code",
   "execution_count": null,
   "id": "e8caab13",
   "metadata": {},
   "outputs": [],
   "source": [
    "treehit = 0\n",
    "while treehit < 10:\n",
    "    treehit += 1\n",
    "    print('나무를 %d번 찍었습니다.'% treehit)\n",
    "print('나무넘어갑니다~')"
   ]
  },
  {
   "cell_type": "code",
   "execution_count": null,
   "id": "556ebd21",
   "metadata": {},
   "outputs": [],
   "source": [
    "treehit = 1\n",
    "while treehit < 11:\n",
    "    print('나무를 %d번 찍었습니다.'% treehit)\n",
    "    treehit += 1\n",
    "print('나무넘어갑니다~')"
   ]
  },
  {
   "cell_type": "markdown",
   "id": "b4bb7b80",
   "metadata": {},
   "source": [
    "#### while 빠져나오기"
   ]
  },
  {
   "cell_type": "code",
   "execution_count": null,
   "id": "bcb8aaf3",
   "metadata": {},
   "outputs": [],
   "source": [
    "prompt = \"\"\"\n",
    "    1.Add 2.Del 3. Modify 4.Quit\n",
    "    \n",
    "    Enter Number: \"\"\"\n",
    "\n",
    "while True:\n",
    "    num = input(prompt)\n",
    "    print(f'입력한 숫자는 [{num}]')\n",
    "    \n",
    "    if num == 4:\n",
    "        break\n",
    "    "
   ]
  },
  {
   "cell_type": "code",
   "execution_count": null,
   "id": "641a1e83",
   "metadata": {},
   "outputs": [],
   "source": [
    "print('\\u2605')"
   ]
  },
  {
   "cell_type": "code",
   "execution_count": null,
   "id": "217fff6a",
   "metadata": {},
   "outputs": [],
   "source": [
    "num = input('숫자를 여러개 입력하세요:')\n",
    "num_len = len(num)\n",
    "i = 0\n",
    "while i!=num_len:\n",
    "    print('\\u2605'*2*int(num[i]))\n",
    "\n",
    "    i+=1\n",
    "    \n",
    "\n",
    "    "
   ]
  },
  {
   "cell_type": "code",
   "execution_count": null,
   "id": "0d146fe5",
   "metadata": {},
   "outputs": [],
   "source": [
    "length = int(input('공의 높이를 입력하세요(meter): '))\n",
    "meter,cnt = length, 0\n",
    "while True:\n",
    "    meter /=2\n",
    "    cnt +=1\n",
    "    if meter<0.00001:\n",
    "        break\n",
    "print(f'{length}위치에서 공의 튕긴 횟수는 총 {cnt}번 입니다.')\n",
    "\n",
    "### 22이번이 맞음"
   ]
  },
  {
   "cell_type": "code",
   "execution_count": null,
   "id": "804ae5dc",
   "metadata": {},
   "outputs": [],
   "source": [
    "import random\n",
    "\n",
    "num = random.randint(1,100)\n",
    "\n",
    "print('-'*35)\n",
    "print('* 비밀의 숫자가 지정 되었습니다.')\n",
    "print('-'*35)\n",
    "\n",
    "cnt = 0\n",
    "while True:\n",
    "    n = int(input(\"숫자를 입력하세요 :\"))\n",
    "    cnt += 1\n",
    "    if n > num:\n",
    "        print('비밀의 숫자가 더 작은 수 입니다.')\n",
    "    if n < num:\n",
    "        print('비밀의 숫자가 더 큰 수 입니다.')    \n",
    "    if n == num:\n",
    "        print('정답 입니다.')\n",
    "        break\n",
    "print('-'*35)\n",
    "print(f'비밀의 숫자 :{num}')\n",
    "print(f'당신의 입력 횟수 :{cnt}')"
   ]
  },
  {
   "cell_type": "code",
   "execution_count": 1,
   "id": "723a3ad3",
   "metadata": {},
   "outputs": [
    {
     "name": "stdout",
     "output_type": "stream",
     "text": [
      "\n",
      "-------------------------\n",
      "* 비밀 숫자가 지정되었습니다.\n",
      "-------------------------\n",
      "\n",
      "숫자를 입력하세요: 50\n",
      "비밀의 수는 더 작은 수 입니다.\n",
      "숫자를 입력하세요: 25\n",
      "비밀의 수는 더 큰 수 입니다.\n",
      "숫자를 입력하세요: 32\n",
      "비밀의 수는 더 작은 수 입니다.\n",
      "숫자를 입력하세요: 27\n",
      "비밀의 수는 더 큰 수 입니다.\n",
      "숫자를 입력하세요: 29\n",
      "비밀의 수는 더 작은 수 입니다.\n",
      "숫자를 입력하세요: 28\n",
      "정답 입니다\n",
      "비밀의 숫자: 28\n",
      "당신의 입력 횟수: 6\n"
     ]
    }
   ],
   "source": [
    "import random\n",
    "sn = random.randint(1,100)\n",
    "prompt = '''\n",
    "-------------------------\n",
    "* 비밀 숫자가 지정되었습니다.\n",
    "-------------------------\n",
    "'''\n",
    "print(prompt)\n",
    "\n",
    "count = 0\n",
    "while True:\n",
    "    ans = int(input(\"숫자를 입력하세요: \"))\n",
    "    count += 1\n",
    "    if int(ans) > sn:\n",
    "      \n",
    "        print('비밀의 수는 더 작은 수 입니다.')\n",
    "    elif int(ans) < sn:\n",
    "      \n",
    "        print('비밀의 수는 더 큰 수 입니다.')\n",
    "    if int(ans) == sn:   #종료조건\n",
    "        print('정답 입니다')\n",
    "        break\n",
    "print(f'비밀의 숫자: {sn}')\n",
    "print(f'당신의 입력 횟수: {count}') "
   ]
  },
  {
   "cell_type": "markdown",
   "id": "72ea8630",
   "metadata": {},
   "source": [
    "### enumerate"
   ]
  },
  {
   "cell_type": "code",
   "execution_count": 5,
   "id": "6bcef74c",
   "metadata": {},
   "outputs": [
    {
     "name": "stdout",
     "output_type": "stream",
     "text": [
      "index0 value2\n",
      "index1 value7\n",
      "index2 value10\n",
      "index3 value13\n",
      "index4 value15\n"
     ]
    }
   ],
   "source": [
    "mylist = [2,7,10,13,15]\n",
    "for idx,val in enumerate(mylist):\n",
    "    print(f'index{idx} value{val}')"
   ]
  },
  {
   "cell_type": "code",
   "execution_count": 6,
   "id": "08a1d1fc",
   "metadata": {},
   "outputs": [
    {
     "name": "stdout",
     "output_type": "stream",
     "text": [
      "index5 value2\n",
      "index6 value7\n",
      "index7 value10\n",
      "index8 value13\n",
      "index9 value15\n"
     ]
    }
   ],
   "source": [
    "mylist = [2,7,10,13,15]\n",
    "for idx,val in enumerate(mylist,5):\n",
    "    print(f'index{idx} value{val}')"
   ]
  },
  {
   "cell_type": "markdown",
   "id": "97e97202",
   "metadata": {},
   "source": [
    "### List"
   ]
  },
  {
   "cell_type": "code",
   "execution_count": null,
   "id": "642f586c",
   "metadata": {},
   "outputs": [],
   "source": []
  }
 ],
 "metadata": {
  "kernelspec": {
   "display_name": "Python 3 (ipykernel)",
   "language": "python",
   "name": "python3"
  },
  "language_info": {
   "codemirror_mode": {
    "name": "ipython",
    "version": 3
   },
   "file_extension": ".py",
   "mimetype": "text/x-python",
   "name": "python",
   "nbconvert_exporter": "python",
   "pygments_lexer": "ipython3",
   "version": "3.8.10"
  }
 },
 "nbformat": 4,
 "nbformat_minor": 5
}
