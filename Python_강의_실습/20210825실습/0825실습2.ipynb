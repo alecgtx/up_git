{
 "cells": [
  {
   "cell_type": "markdown",
   "id": "410fd7c3",
   "metadata": {},
   "source": [
    "### List  군집자료형"
   ]
  },
  {
   "cell_type": "code",
   "execution_count": 2,
   "id": "7e6cd399",
   "metadata": {},
   "outputs": [
    {
     "name": "stdout",
     "output_type": "stream",
     "text": [
      "[1, 2, 3, 4, 5, 6, 7, 8, 9, 10]\n"
     ]
    }
   ],
   "source": [
    "# List에 데이터 넣기\n",
    "\n",
    "myList = list()          # []\n",
    "\n",
    "for i in range(1,11):\n",
    "    myList.append(i)     #List에 데이터 넣기\n",
    "    \n",
    "print(myList)"
   ]
  },
  {
   "cell_type": "code",
   "execution_count": 3,
   "id": "ac57ea99",
   "metadata": {},
   "outputs": [
    {
     "name": "stdout",
     "output_type": "stream",
     "text": [
      "[1, 2, 3, 4, 5, 6, 7, 8, 9, 10]\n"
     ]
    }
   ],
   "source": [
    "myList =  list(range(1,11))\n",
    "print(myList)"
   ]
  },
  {
   "cell_type": "code",
   "execution_count": 5,
   "id": "d8aee480",
   "metadata": {},
   "outputs": [
    {
     "name": "stdout",
     "output_type": "stream",
     "text": [
      "[range(1, 11)]\n"
     ]
    }
   ],
   "source": [
    "myList =  [range(1,11)]\n",
    "print(myList)"
   ]
  },
  {
   "cell_type": "markdown",
   "id": "96972064",
   "metadata": {},
   "source": [
    "### 리스트 요소 인덱싱 슬라이싱"
   ]
  },
  {
   "cell_type": "code",
   "execution_count": 9,
   "id": "30c0f801",
   "metadata": {},
   "outputs": [
    {
     "name": "stdout",
     "output_type": "stream",
     "text": [
      "blue\n",
      "['blue', 'black', 'white']\n"
     ]
    }
   ],
   "source": [
    "colors = ['red', 'green', 'blue', 'black', 'white']\n",
    "print(colors[2])\n",
    "print(colors[2:])\n"
   ]
  },
  {
   "cell_type": "code",
   "execution_count": 10,
   "id": "17ebb23b",
   "metadata": {},
   "outputs": [
    {
     "name": "stdout",
     "output_type": "stream",
     "text": [
      "blue\n",
      "['blue', 'black', 'white']\n"
     ]
    },
    {
     "ename": "TypeError",
     "evalue": "list indices must be integers or slices, not tuple",
     "output_type": "error",
     "traceback": [
      "\u001b[1;31m---------------------------------------------------------------------------\u001b[0m",
      "\u001b[1;31mTypeError\u001b[0m                                 Traceback (most recent call last)",
      "\u001b[1;32m~\\AppData\\Local\\Temp/ipykernel_1384/4147875460.py\u001b[0m in \u001b[0;36m<module>\u001b[1;34m\u001b[0m\n\u001b[0;32m      2\u001b[0m \u001b[0mprint\u001b[0m\u001b[1;33m(\u001b[0m\u001b[0mcolors\u001b[0m\u001b[1;33m[\u001b[0m\u001b[1;36m2\u001b[0m\u001b[1;33m]\u001b[0m\u001b[1;33m)\u001b[0m\u001b[1;33m\u001b[0m\u001b[1;33m\u001b[0m\u001b[0m\n\u001b[0;32m      3\u001b[0m \u001b[0mprint\u001b[0m\u001b[1;33m(\u001b[0m\u001b[0mcolors\u001b[0m\u001b[1;33m[\u001b[0m\u001b[1;36m2\u001b[0m\u001b[1;33m:\u001b[0m\u001b[1;33m]\u001b[0m\u001b[1;33m)\u001b[0m\u001b[1;33m\u001b[0m\u001b[1;33m\u001b[0m\u001b[0m\n\u001b[1;32m----> 4\u001b[1;33m \u001b[0mprint\u001b[0m\u001b[1;33m(\u001b[0m\u001b[0mcolors\u001b[0m\u001b[1;33m[\u001b[0m\u001b[1;36m2\u001b[0m\u001b[1;33m,\u001b[0m\u001b[1;36m3\u001b[0m\u001b[1;33m,\u001b[0m\u001b[1;36m4\u001b[0m\u001b[1;33m]\u001b[0m\u001b[1;33m)\u001b[0m\u001b[1;33m\u001b[0m\u001b[1;33m\u001b[0m\u001b[0m\n\u001b[0m",
      "\u001b[1;31mTypeError\u001b[0m: list indices must be integers or slices, not tuple"
     ]
    }
   ],
   "source": [
    "colors = ['red', 'green', 'blue', 'black', 'white']\n",
    "print(colors[2])\n",
    "print(colors[2:])\n",
    "print(colors[2,3,4])"
   ]
  },
  {
   "cell_type": "code",
   "execution_count": 17,
   "id": "85aeea62",
   "metadata": {},
   "outputs": [
    {
     "name": "stdout",
     "output_type": "stream",
     "text": [
      "나는 red색상을 좋아합니다\n",
      "나는 green색상을 좋아합니다\n",
      "나는 blue색상을 좋아합니다\n",
      "나는 black색상을 좋아합니다\n",
      "나는 white색상을 좋아합니다\n"
     ]
    }
   ],
   "source": [
    "colors = ['red', 'green', 'blue', 'black', 'white']\n",
    "\n",
    "for color in colors:\n",
    "    print(f'나는 {color}색상을 좋아합니다')"
   ]
  },
  {
   "cell_type": "code",
   "execution_count": 1,
   "id": "93467fc9",
   "metadata": {},
   "outputs": [
    {
     "name": "stdout",
     "output_type": "stream",
     "text": [
      "['red', 'green', 'blue', 'black', 'white', 'apple', 'grape', 'orange']\n"
     ]
    }
   ],
   "source": [
    "colors = ['red', 'green', 'blue', 'black', 'white']\n",
    "fruits = ['apple', 'grape', 'orange']\n",
    "print(colors+fruits)"
   ]
  },
  {
   "cell_type": "code",
   "execution_count": 2,
   "id": "b51623bf",
   "metadata": {},
   "outputs": [
    {
     "data": {
      "text/plain": [
       "['red', 'green', 'blue', 'black', 'white', 'violet']"
      ]
     },
     "execution_count": 2,
     "metadata": {},
     "output_type": "execute_result"
    }
   ],
   "source": [
    "colors.append('violet')\n",
    "colors"
   ]
  },
  {
   "cell_type": "code",
   "execution_count": 3,
   "id": "bbeffe48",
   "metadata": {},
   "outputs": [
    {
     "data": {
      "text/plain": [
       "['red', 'green', 'blue', 'white', 'violet']"
      ]
     },
     "execution_count": 3,
     "metadata": {},
     "output_type": "execute_result"
    }
   ],
   "source": [
    "colors.remove('black')\n",
    "colors"
   ]
  },
  {
   "cell_type": "code",
   "execution_count": 4,
   "id": "3426b2d9",
   "metadata": {},
   "outputs": [
    {
     "data": {
      "text/plain": [
       "['red', 'green', 'Blue', 'white', 'violet']"
      ]
     },
     "execution_count": 4,
     "metadata": {},
     "output_type": "execute_result"
    }
   ],
   "source": [
    "colors[2] = 'Blue'\n",
    "colors"
   ]
  },
  {
   "cell_type": "markdown",
   "id": "d7be494d",
   "metadata": {},
   "source": [
    "### 2차원리스트"
   ]
  },
  {
   "cell_type": "code",
   "execution_count": 6,
   "id": "5dc9e72c",
   "metadata": {},
   "outputs": [
    {
     "name": "stdout",
     "output_type": "stream",
     "text": [
      "[10, 20, 30]\n",
      "[40, 50, 60, 70]\n",
      "70\n"
     ]
    }
   ],
   "source": [
    "numbers = [[10,20,30],[40,50,60,70]]\n",
    "\n",
    "print(numbers[0])\n",
    "print(numbers[1])\n",
    "print(numbers[1][3])"
   ]
  },
  {
   "cell_type": "code",
   "execution_count": 7,
   "id": "9f187284",
   "metadata": {},
   "outputs": [
    {
     "name": "stdout",
     "output_type": "stream",
     "text": [
      "40\n"
     ]
    }
   ],
   "source": [
    "numbers = [[10,20,30],[[40,50],60,70]]\n",
    "print(numbers[1][0][0])"
   ]
  },
  {
   "cell_type": "code",
   "execution_count": 16,
   "id": "4abed1b3",
   "metadata": {},
   "outputs": [
    {
     "name": "stdout",
     "output_type": "stream",
     "text": [
      " 1  2  3  4 \n",
      " 5  6  7  8 \n",
      " 9 10 11 12 \n"
     ]
    }
   ],
   "source": [
    "num = [[1,2,3,4],\n",
    "        [5,6,7,8],\n",
    "        [9,10,11,12]]\n",
    "\n",
    "for i in range(3):\n",
    "    for j in range(4):\n",
    "        \n",
    "        print(f'{numbers[i][j]:2}',end = ' ')\n",
    "    print()\n",
    "    \n",
    "        \n"
   ]
  },
  {
   "cell_type": "code",
   "execution_count": 14,
   "id": "1d1cc7cd",
   "metadata": {},
   "outputs": [
    {
     "name": "stdout",
     "output_type": "stream",
     "text": [
      " 1  2  3  4 \n",
      " 5  6  7  8 \n",
      " 9 10 11 12 \n"
     ]
    }
   ],
   "source": [
    "threeFour = [ [0] * 4 for _ in range(3) ]\n",
    "num = 1\n",
    "for i in range(3):\n",
    "    for j in range(4):\n",
    "        threeFour[i][j] = num\n",
    "        num += 1\n",
    "for i in threeFour:\n",
    "    for j in i:\n",
    "        print(f'{j:>2d}', end=' ')\n",
    "    print()"
   ]
  },
  {
   "cell_type": "code",
   "execution_count": 20,
   "id": "c62c906f",
   "metadata": {},
   "outputs": [
    {
     "name": "stdout",
     "output_type": "stream",
     "text": [
      "[3, 6, 9, 12, 15, 18, 21, 24, 27, 30, 33, 36, 39, 42, 45, 48, 51, 54, 57, 60, 63, 66, 69, 72, 75, 78, 81, 84, 87, 90, 93, 96, 99, 102, 105, 108, 111, 114, 117, 120, 123, 126, 129, 132, 135, 138, 141, 144, 147, 150, 153, 156, 159, 162, 165, 168, 171, 174, 177, 180, 183, 186, 189, 192, 195, 198]\n"
     ]
    }
   ],
   "source": [
    "mylist = list()\n",
    "for i in range(1,201):\n",
    "    if i % 3 == 0:\n",
    "        mylist.append(i)\n",
    "print(mylist)"
   ]
  },
  {
   "cell_type": "code",
   "execution_count": null,
   "id": "bef7a325",
   "metadata": {},
   "outputs": [],
   "source": [
    "# 리스트 컴프리헨션\n",
    "\n",
    "mylist  [i for 1 in range(1,201) if i % 3 == 0]\n",
    "print(mylist)"
   ]
  },
  {
   "cell_type": "code",
   "execution_count": 28,
   "id": "579a7924",
   "metadata": {},
   "outputs": [
    {
     "name": "stdout",
     "output_type": "stream",
     "text": [
      "BTS의 성적 입력: 100\n",
      "트와이스의 성적 입력: 80\n",
      "블랙핑크의 성적 입력: 90\n",
      "뉴이스트의 성적 입력: 70\n",
      "------------------------------\n",
      "아이돌 성적 결과\n",
      "------------------------------\n",
      "BTS의 성적은 100점:수료\n",
      "트와이스의 성적은 80점:수료\n",
      "블랙핑크의 성적은 90점:수료\n",
      "뉴이스트의 성적은 70점:미수료\n"
     ]
    }
   ],
   "source": [
    "idols = ['BTS','트와이스','블랙핑크','뉴이스트']\n",
    "jumsu = []\n",
    "\n",
    "for idx, value in enumerate(idols):\n",
    "    tmp = int(input(f'{value}의 성적 입력: '))\n",
    "    jumsu.append(tmp)\n",
    "    \n",
    "print('-'*30)\n",
    "print('아이돌 성적 결과')\n",
    "print('-'*30)\n",
    "\n",
    "result = ''\n",
    "for i in range(len(idols)):\n",
    "    if  jumsu[i] >= 80: result = '수료'\n",
    "    else: result = '미수료'\n",
    "        \n",
    "    print(f'{idols[i]}의 성적은 {jumsu[i]}점:{result}')\n",
    "        \n",
    "\n",
    "\n",
    "\n"
   ]
  },
  {
   "cell_type": "code",
   "execution_count": 33,
   "id": "49bcfb00",
   "metadata": {},
   "outputs": [
    {
     "name": "stdout",
     "output_type": "stream",
     "text": [
      "YYYYMMDD :20210721\n",
      "------------------------------\n",
      "2021//1//1 ~ 2021//7//21 : 202\n"
     ]
    }
   ],
   "source": [
    "\n",
    "ymd = input(f'YYYYMMDD :')\n",
    "year = int(ymd[0:4])\n",
    "month = int(ymd[4:6])\n",
    "day = int(ymd[6:])\n",
    "\n",
    "dates = [31,28,31,30,31,30,31,31,30,31,30,31]\n",
    "\n",
    "if year%400==0 or(year%100!=0 and year%4==0):\n",
    "    date[1]=29\n",
    "    \n",
    "print(\"-\"*30)\n",
    "day_cnt=0\n",
    "for i in range(month -1):\n",
    "    day_cnt+=dates[i]\n",
    "day_cnt+=day\n",
    "print(f'{year}//1//1 ~ {year}//{month}//{day} : {day_cnt}')    \n",
    "    "
   ]
  },
  {
   "cell_type": "code",
   "execution_count": 34,
   "id": "9e6330af",
   "metadata": {},
   "outputs": [
    {
     "name": "stdout",
     "output_type": "stream",
     "text": [
      "YYYYMMDD :20210721\n",
      "------------------------------\n",
      "2021//1//1 ~ 2021//7//21 : 201\n"
     ]
    }
   ],
   "source": [
    "ymd = input(f'YYYYMMDD :')\n",
    "year = int(ymd[0:4])\n",
    "month = int(ymd[4:6])\n",
    "day = int(ymd[6:])\n",
    "\n",
    "dates = [31,28,31,30,31,30,31,31,30,31,30,31]\n",
    "\n",
    "if year%400==0 or(year%100!=0 and year%4==0):\n",
    "    date[1]=29\n",
    "    \n",
    "print(\"-\"*30)\n",
    "day_cnt=0\n",
    "for i in range(month -1):\n",
    "    day_cnt+=dates[i]\n",
    "day_cnt+=day-1\n",
    "print(f'{year}//1//1 ~ {year}//{month}//{day} : {day_cnt}')    "
   ]
  },
  {
   "cell_type": "code",
   "execution_count": 31,
   "id": "05bbf956",
   "metadata": {},
   "outputs": [
    {
     "name": "stdout",
     "output_type": "stream",
     "text": [
      "YYYYMMDD :20210721\n",
      "--------------------\n",
      "2021/1/1 ~ 2021/7/21 : 201\n"
     ]
    }
   ],
   "source": [
    "today = input('YYYYMMDD :')\n",
    "today_y = int(today[0:4]); today_m = int(today[4:6]) ; today_d = int(today[6:8])\n",
    "dates = [31,28,31,30,31,30,31,31,30,31,30,31]\n",
    "if today_y % 400 ==0 or (today_y %100 != 0 and today_y % 4 ==0):\n",
    "    dates[1]=29\n",
    "days = sum(dates[0:today_m-1])+today_d-1\n",
    "print('-'*20)\n",
    "print(f'{today_y}/1/1 ~ {today_y}/{today_m}/{today_d} : {days}')"
   ]
  },
  {
   "cell_type": "markdown",
   "id": "03d89957",
   "metadata": {},
   "source": [
    "### 기간의 소요일 구하기"
   ]
  },
  {
   "cell_type": "code",
   "execution_count": 36,
   "id": "1eca0c8c",
   "metadata": {},
   "outputs": [
    {
     "name": "stdout",
     "output_type": "stream",
     "text": [
      "시작일(YYYYMMDD): 20210101\n",
      "시작일(YYYYMMDD): 20210721\n",
      "20210101 ~20210721까지의 소요일은 201일\n"
     ]
    }
   ],
   "source": [
    "import datetime\n",
    "\n",
    "start = input('시작일(YYYYMMDD): ')\n",
    "end = input('시작일(YYYYMMDD): ')\n",
    "\n",
    "sday = datetime.datetime.strptime(start,'%Y%m%d')\n",
    "eday = datetime.datetime.strptime(end,'%Y%m%d')\n",
    "print(f'{start} ~{end}까지의 소요일은 {(eday - sday).days}일')\n"
   ]
  },
  {
   "cell_type": "code",
   "execution_count": null,
   "id": "78ba46c8",
   "metadata": {},
   "outputs": [],
   "source": []
  }
 ],
 "metadata": {
  "kernelspec": {
   "display_name": "Python 3 (ipykernel)",
   "language": "python",
   "name": "python3"
  },
  "language_info": {
   "codemirror_mode": {
    "name": "ipython",
    "version": 3
   },
   "file_extension": ".py",
   "mimetype": "text/x-python",
   "name": "python",
   "nbconvert_exporter": "python",
   "pygments_lexer": "ipython3",
   "version": "3.8.10"
  }
 },
 "nbformat": 4,
 "nbformat_minor": 5
}
