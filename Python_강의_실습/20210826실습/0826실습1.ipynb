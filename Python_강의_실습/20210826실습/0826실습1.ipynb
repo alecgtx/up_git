{
 "cells": [
  {
   "cell_type": "markdown",
   "id": "6e75e638",
   "metadata": {},
   "source": [
    "### 튜플"
   ]
  },
  {
   "cell_type": "code",
   "execution_count": null,
   "id": "fe2ac970",
   "metadata": {},
   "outputs": [],
   "source": [
    "a=('a','b')\n",
    "type(a)"
   ]
  },
  {
   "cell_type": "code",
   "execution_count": null,
   "id": "51f032bf",
   "metadata": {},
   "outputs": [],
   "source": [
    "a='a'\n",
    "type(a)"
   ]
  },
  {
   "cell_type": "code",
   "execution_count": null,
   "id": "ec1588be",
   "metadata": {},
   "outputs": [],
   "source": [
    "a='a',\n",
    "type(a)"
   ]
  },
  {
   "cell_type": "code",
   "execution_count": null,
   "id": "1e6f0d5c",
   "metadata": {},
   "outputs": [],
   "source": [
    "menu=('짜장면','우동','짬뽕','복음밥')\n",
    "menu[1]='유산슬'   # 튜플은  요소를 바꿀수 없다.  요소에 접근,합침 가능 "
   ]
  },
  {
   "cell_type": "code",
   "execution_count": null,
   "id": "1585f37d",
   "metadata": {},
   "outputs": [],
   "source": [
    "tup1=(10,20,30)\n",
    "tup2=(40,50,60)\n",
    "\n",
    "tup3=tup1+tup2\n",
    "print(tup3)"
   ]
  },
  {
   "cell_type": "code",
   "execution_count": null,
   "id": "eb353afd",
   "metadata": {},
   "outputs": [],
   "source": [
    "L=['a','b','c','d','e']\n",
    "T=('a','b','c','d','e')\n",
    "\n",
    "import sys   ### 메모리사이즈 튜플이 좀 적게 사용\n",
    "print(sys.getsizeof(L))\n",
    "print(sys.getsizeof(T))"
   ]
  },
  {
   "cell_type": "code",
   "execution_count": null,
   "id": "43f468c7",
   "metadata": {},
   "outputs": [],
   "source": [
    "import timeit\n",
    "%timeit L=['a','b','c','d','e']"
   ]
  },
  {
   "cell_type": "markdown",
   "id": "8678e68c",
   "metadata": {},
   "source": [
    "### 딕셔너리"
   ]
  },
  {
   "cell_type": "code",
   "execution_count": null,
   "id": "92042900",
   "metadata": {},
   "outputs": [],
   "source": [
    "a={'name':'pey','phone':'0102849234'}\n",
    "a"
   ]
  },
  {
   "cell_type": "code",
   "execution_count": null,
   "id": "ee8792a9",
   "metadata": {},
   "outputs": [],
   "source": [
    "a=dict(name='pey', phone='0102849234') ### dict 함수사용시 '='를 사용\n",
    "a"
   ]
  },
  {
   "cell_type": "code",
   "execution_count": null,
   "id": "2b0e3a8d",
   "metadata": {},
   "outputs": [],
   "source": [
    "help(dict)"
   ]
  },
  {
   "cell_type": "markdown",
   "id": "dbe879a2",
   "metadata": {},
   "source": [
    "### 딕셔너리 요소 추가 수정 삭제"
   ]
  },
  {
   "cell_type": "code",
   "execution_count": null,
   "id": "4487dc0f",
   "metadata": {},
   "outputs": [],
   "source": [
    "name='박지민'\n",
    "scores={'kor':90, 'eng':89, 'math':95, 'science':88}\n",
    "print(scores)\n",
    "\n",
    "scores['music']=100\n",
    "print(scores)\n",
    "\n",
    "scores['kor']=70\n",
    "print(scores)\n",
    "\n",
    "del scores['science']\n",
    "print(scores)"
   ]
  },
  {
   "cell_type": "code",
   "execution_count": null,
   "id": "594e41f0",
   "metadata": {},
   "outputs": [],
   "source": [
    "for k in scores:\n",
    "    print(f'key[{k}], value[{scores[k]}]')"
   ]
  },
  {
   "cell_type": "code",
   "execution_count": null,
   "id": "3ae3e815",
   "metadata": {},
   "outputs": [],
   "source": [
    "print(scores.keys())\n",
    "for k in scores.keys():\n",
    "    print(k)"
   ]
  },
  {
   "cell_type": "code",
   "execution_count": null,
   "id": "a85beb1f",
   "metadata": {},
   "outputs": [],
   "source": [
    "print(scores.values())\n",
    "for k in scores.values():\n",
    "    print(k)"
   ]
  },
  {
   "cell_type": "code",
   "execution_count": null,
   "id": "557aeb1b",
   "metadata": {},
   "outputs": [],
   "source": [
    "scores.items()"
   ]
  },
  {
   "cell_type": "code",
   "execution_count": null,
   "id": "2a432b31",
   "metadata": {},
   "outputs": [],
   "source": [
    "scores.items()\n",
    "for k,v in scores.items():\n",
    "    print(k,v)"
   ]
  },
  {
   "cell_type": "markdown",
   "id": "02216371",
   "metadata": {},
   "source": [
    "### 딕셔너리 합치기"
   ]
  },
  {
   "cell_type": "code",
   "execution_count": null,
   "id": "0249e107",
   "metadata": {},
   "outputs": [],
   "source": [
    "scores={'kor':90, 'eng':89, 'math':95, 'science':88}\n",
    "arts={'music':100,'dance':90}\n",
    "scores.update(arts)      ## '+'가 아니고 update\n",
    "print(scores)"
   ]
  },
  {
   "cell_type": "code",
   "execution_count": null,
   "id": "b12116a6",
   "metadata": {},
   "outputs": [],
   "source": [
    "names=['BTS', '트와이스', '블랙핑크', '뉴이스트']\n",
    "idols={}\n",
    "for name in names:\n",
    "    idols[name]=int(input(f'{name}의 성적은: '))\n",
    "print(idols)\n",
    "\n",
    "\n",
    "print(f'아이돌 성적 합계: {sum(idols.values())}, 평균{sum(idols.values())/len(idols)}' )\n"
   ]
  },
  {
   "cell_type": "code",
   "execution_count": null,
   "id": "c3ee5c19",
   "metadata": {},
   "outputs": [],
   "source": [
    "sum(idols.values())/len(idols)"
   ]
  },
  {
   "cell_type": "code",
   "execution_count": null,
   "id": "3880e510",
   "metadata": {},
   "outputs": [
    {
     "name": "stdout",
     "output_type": "stream",
     "text": [
      "메뉴\n",
      "1. 단어 등록\n",
      "2. 단어검색\n",
      "3. 모든 단어 보기\n",
      "0. 종료하기\n",
      "---------------------선택: 1\n",
      "새단어: \n",
      "의 뜻: \n",
      "메뉴\n",
      "1. 단어 등록\n",
      "2. 단어검색\n",
      "3. 모든 단어 보기\n",
      "0. 종료하기\n",
      "---------------------선택: 3\n",
      " : \n",
      "메뉴\n",
      "1. 단어 등록\n",
      "2. 단어검색\n",
      "3. 모든 단어 보기\n",
      "0. 종료하기\n",
      "---------------------선택: 1\n",
      "새단어: apple\n",
      "apple의 뜻: 사과\n",
      "메뉴\n",
      "1. 단어 등록\n",
      "2. 단어검색\n",
      "3. 모든 단어 보기\n",
      "0. 종료하기\n",
      "---------------------선택: 3\n",
      " : \n",
      "apple : 사과\n"
     ]
    }
   ],
   "source": [
    "menu = \"\"\"메뉴\n",
    "1. 단어 등록\n",
    "2. 단어검색\n",
    "3. 모든 단어 보기\n",
    "0. 종료하기\n",
    "---------------------\"\"\"\n",
    "\n",
    "wordbook={}\n",
    "\n",
    "while True:\n",
    "    select=input(menu+'선택: ')\n",
    "    \n",
    "    if select==\"0\":\n",
    "        print('프로그램을 종료합니다.')\n",
    "        break\n",
    "        \n",
    "    elif select=='1':\n",
    "        k=input('새단어: ')\n",
    "        v=input(f'{k}의 뜻: ')\n",
    "        wordbook[k]=v\n",
    "    elif select=='2':\n",
    "        s=input('검색할 단어: ')\n",
    "        if s in wordbook:\n",
    "            print(f'{s}의 뜻은 {wordbook[s]}입니다.')\n",
    "        else:\n",
    "            print('미등록 단어입니다.')\n",
    "    elif select=='3':\n",
    "        for k,v in wordbook.items():\n",
    "            print(f'{k} : {v}')\n",
    "    \n",
    "    else:\n",
    "        print('잘못 입력했습니다. ')\n",
    "        "
   ]
  },
  {
   "cell_type": "code",
   "execution_count": null,
   "id": "358ed60b",
   "metadata": {},
   "outputs": [],
   "source": [
    "menu = \"\"\"메뉴\n",
    "1. 단어 등록\n",
    "2. 단어검색\n",
    "3. 모든 단어 보기\n",
    "4. 퀴즈풀기\n",
    "0. 종료하기\n",
    "---------------------\"\"\"\n",
    "\n",
    "wordbook={}\n",
    "\n",
    "while True:\n",
    "    select=input(menu+'선택: ')\n",
    "    \n",
    "    if select==\"0\":\n",
    "        print('프로그램을 종료합니다.')\n",
    "        break\n",
    "        \n",
    "    elif select=='1':\n",
    "        k=input('새단어: ')\n",
    "        v=input(f'{k}의 뜻: ')\n",
    "        wordbook[k]=v\n",
    "    elif select=='2':\n",
    "        s=input('검색할 단어: ')\n",
    "        if s in wordbook:\n",
    "            print(f'{s}의 뜻은 {wordbook[s]}입니다.')\n",
    "        else:\n",
    "            print('미등록 단어입니다.')\n",
    "    elif select=='3':\n",
    "        for k,v in wordbook.items():\n",
    "            print(f'{k} : {v}')\n",
    "    elif select=='4':\n",
    "        import random\n",
    "        k, v = random.choice(tuple(wordbook.items()))\n",
    "        answer=input(f'{v}의 영어단어는? ')\n",
    "        if answer==k:\n",
    "            print('정답입니다. ')\n",
    "        else:\n",
    "            print('오답입니다. ')\n",
    "            \n",
    "    \n",
    "    else:\n",
    "        print('잘못 입력했습니다. ')\n",
    "        "
   ]
  },
  {
   "cell_type": "markdown",
   "id": "bdf8c0b0",
   "metadata": {},
   "source": [
    "### set"
   ]
  },
  {
   "cell_type": "code",
   "execution_count": 1,
   "id": "96aa7744",
   "metadata": {},
   "outputs": [
    {
     "name": "stdout",
     "output_type": "stream",
     "text": [
      "{'e', 'H', 'l', 'o'}\n"
     ]
    }
   ],
   "source": [
    "a= set()\n",
    "a=set('Hello')\n",
    "print(a)\n"
   ]
  },
  {
   "cell_type": "code",
   "execution_count": 11,
   "id": "89650d18",
   "metadata": {},
   "outputs": [
    {
     "name": "stdout",
     "output_type": "stream",
     "text": [
      "{2, 4}\n",
      "{2, 4}\n",
      "{1, 2, 3, 4, 5, 6, 8, 10}\n",
      "{1, 2, 3, 4, 5, 6, 8, 10}\n",
      "{8, 10, 6}\n"
     ]
    },
    {
     "data": {
      "text/plain": [
       "{6, 8, 10}"
      ]
     },
     "execution_count": 11,
     "metadata": {},
     "output_type": "execute_result"
    }
   ],
   "source": [
    "s1={2,4,6,8,10}\n",
    "s2={1,2,3,4,5}\n",
    "\n",
    "s=s1&s2\n",
    "print(s)\n",
    "s1.intersection(s2)\n",
    "print(s)\n",
    "\n",
    "s=s1|s2\n",
    "print(s)\n",
    "s1.union(s2)\n",
    "print(s)\n",
    "\n",
    "s=s1-s2\n",
    "print(s)\n",
    "s1.difference(s2)\n",
    "\n"
   ]
  },
  {
   "cell_type": "code",
   "execution_count": null,
   "id": "bacb6de4",
   "metadata": {},
   "outputs": [],
   "source": []
  }
 ],
 "metadata": {
  "kernelspec": {
   "display_name": "Python 3 (ipykernel)",
   "language": "python",
   "name": "python3"
  },
  "language_info": {
   "codemirror_mode": {
    "name": "ipython",
    "version": 3
   },
   "file_extension": ".py",
   "mimetype": "text/x-python",
   "name": "python",
   "nbconvert_exporter": "python",
   "pygments_lexer": "ipython3",
   "version": "3.8.10"
  }
 },
 "nbformat": 4,
 "nbformat_minor": 5
}
