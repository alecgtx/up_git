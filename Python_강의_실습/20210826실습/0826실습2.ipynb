{
 "cells": [
  {
   "cell_type": "markdown",
   "id": "5d827306",
   "metadata": {},
   "source": [
    "### 함수"
   ]
  },
  {
   "cell_type": "code",
   "execution_count": null,
   "id": "1f26f60d",
   "metadata": {},
   "outputs": [],
   "source": [
    "def add(p1, p2):\n",
    "    result=p1+p2\n",
    "    return result\n",
    "\n",
    "\n",
    "add(3,4)"
   ]
  },
  {
   "cell_type": "code",
   "execution_count": null,
   "id": "e8b42a5e",
   "metadata": {},
   "outputs": [],
   "source": [
    "def add(p1, p2):\n",
    "    \n",
    "    return p1+p2\n",
    "\n",
    "add(3,4)"
   ]
  },
  {
   "cell_type": "code",
   "execution_count": null,
   "id": "0b28f3cf",
   "metadata": {},
   "outputs": [],
   "source": [
    "def add(p1, p2):\n",
    "    \n",
    "    print(f'{p1+p2}')\n",
    "    \n",
    "add(3,4)"
   ]
  },
  {
   "cell_type": "code",
   "execution_count": null,
   "id": "8f19fe83",
   "metadata": {},
   "outputs": [],
   "source": [
    "def add():\n",
    "    return 'python'\n",
    "\n",
    "add()"
   ]
  },
  {
   "cell_type": "code",
   "execution_count": null,
   "id": "66853f80",
   "metadata": {},
   "outputs": [],
   "source": [
    "# 함수 정의\n",
    "def cal(num1,num2,op):\n",
    "    if op=='+':\n",
    "        return num1+num2\n",
    "    if op=='-':\n",
    "        return num1-num2\n",
    "    if op=='*':\n",
    "        return num1*num2\n",
    "    if op=='//':\n",
    "        return num1+num2\n",
    "\n",
    "# 함수호출\n",
    "num1=int(input('첫번째 숫자: '))\n",
    "num2=int(input('두번째 숫자: '))\n",
    "op=input('연산 기호: ')\n",
    "print(f'결과: {cal(num1, num2, op)}')"
   ]
  },
  {
   "cell_type": "code",
   "execution_count": null,
   "id": "d62d4382",
   "metadata": {},
   "outputs": [],
   "source": [
    "# 함수 정의\n",
    "def cal(n1,n2,op):\n",
    "    if op=='+':\n",
    "        return num1+num2\n",
    "    if op=='-':\n",
    "        return num1-num2\n",
    "    if op=='*':\n",
    "        return num1*num2\n",
    "    if op=='//':\n",
    "        return num1+num2\n",
    "\n",
    "# 함수호출\n",
    "num1=int(input('첫번째 숫자: '))\n",
    "num2=int(input('두번째 숫자: '))\n",
    "op=input('연산 기호: ')\n",
    "print(f'결과: {cal(num1, num2, op)}')"
   ]
  },
  {
   "cell_type": "code",
   "execution_count": null,
   "id": "8ad764f2",
   "metadata": {},
   "outputs": [],
   "source": [
    "# 함수 정의\n",
    "def cal(n1,n2,op):\n",
    "    operator=['+','-','*','/']\n",
    "    if op in operator:\n",
    "        return eval(n1+op+n2)\n",
    "    else:\n",
    "        return \"연산기호가 잘못되었습니다.\"\n",
    "\n",
    "# 함수호출\n",
    "num1=int(input('첫번째 숫자: '))\n",
    "num2=int(input('두번째 숫자: '))\n",
    "op=input('연산 기호: ')\n",
    "print('결과: %s' % cal(num1, num2, op))"
   ]
  },
  {
   "cell_type": "code",
   "execution_count": 4,
   "id": "05cd28c8",
   "metadata": {},
   "outputs": [
    {
     "name": "stdout",
     "output_type": "stream",
     "text": [
      "['피카츄', '라이츄', '파이리', '꼬부기', '버터풀']\n",
      "Random choice item's 버터풀\n"
     ]
    }
   ],
   "source": [
    "import random\n",
    "\n",
    "def get_random_item(items):\n",
    "    r=random.choice(items)\n",
    "    return r\n",
    "\n",
    "items=['피카츄','라이츄','파이리','꼬부기','버터풀']\n",
    "print(items)\n",
    "print(f\"Random choice item's {get_random_item(items)}\")"
   ]
  },
  {
   "cell_type": "code",
   "execution_count": 5,
   "id": "f05fe6d8",
   "metadata": {},
   "outputs": [
    {
     "name": "stdout",
     "output_type": "stream",
     "text": [
      "** 로또 추첨을 시작합니다. ** \n",
      "\n",
      "로또번호: [7, 9, 15, 32, 39, 42]\n"
     ]
    }
   ],
   "source": [
    "import random\n",
    "print(\"** 로또 추첨을 시작합니다. ** \\n\")\n",
    "\n",
    "def lottoNumber():\n",
    "    numlist=list(range(1,46))\n",
    "    rnum=random.sample(numlist,k=6)\n",
    "    rnum.sort()\n",
    "    return rnum\n",
    "print(\"로또번호: %s\" % lottoNumber())\n",
    "    "
   ]
  },
  {
   "cell_type": "code",
   "execution_count": 7,
   "id": "41f86f10",
   "metadata": {},
   "outputs": [
    {
     "name": "stdout",
     "output_type": "stream",
     "text": [
      "** 로또 추첨을 시작합니다. ** \n",
      "\n",
      "로또번호: [5, 7, 20, 33, 42, 44]\n"
     ]
    }
   ],
   "source": [
    "import random\n",
    "print(\"** 로또 추첨을 시작합니다. ** \\n\")\n",
    "\n",
    "def lottoNumber():\n",
    "    r_num=random.sample(range(1,46),6)\n",
    "    r_num.sort()\n",
    "    return r_num\n",
    "print(\"로또번호: %s\" % lottoNumber())"
   ]
  },
  {
   "cell_type": "code",
   "execution_count": 9,
   "id": "0a2097f9",
   "metadata": {},
   "outputs": [
    {
     "name": "stdout",
     "output_type": "stream",
     "text": [
      "[환율정보 불러오기]\n",
      "-환율기준시간 : 2021.08.26 15:52\n",
      "-달러 : 1,170.50\n",
      "-위안 : 180.52\n",
      "-유로 : 1,376.63\n"
     ]
    }
   ],
   "source": [
    "import urllib.request\n",
    "import ssl\n",
    "context = ssl._create_unverified_context()\n",
    "\n",
    "#환율정보 페이지 불러오기\n",
    "print(\"[환율정보 불러오기]\")\n",
    "URL = \"https://search.naver.com/search.naver?where=nexearch&sm=top_hty&fbm=1&ie=utf8&query=%ED%99%98%EC%9C%A8\"\n",
    "page = urllib.request.urlopen(URL, context=context)\n",
    "text = page.read().decode(\"utf8\")  # 해당 페이지의 소스코드\n",
    "\n",
    "\n",
    "def getTargetInfo(searchText, infolen):\n",
    "    where      = text.find(searchText)\n",
    "    targetInfo = text[where+len(searchText):where+len(searchText)+infolen]\n",
    "    return targetInfo\n",
    "info={'환율기준시간':['class=\"grp_info\"> <em>', 16],\n",
    "     '달러':['<span>미국 <em>USD</em></span></a></th> <td><span>', 8],\n",
    "     '위안':['<span>중국 <em>CNY</em></span></a></th> <td><span>', 6],\n",
    "     '유로':['<span>유럽연합 <em>EUR</em></span></a></th> <td><span>', 8]}\n",
    "\n",
    "for k, v in info.items():\n",
    "    print(f'-{k} : {getTargetInfo(v[0], v[1])}')\n",
    "\n",
    "\n"
   ]
  },
  {
   "cell_type": "markdown",
   "id": "6dc31395",
   "metadata": {},
   "source": [
    "### lambda 함수"
   ]
  },
  {
   "cell_type": "code",
   "execution_count": 10,
   "id": "dbeb5b17",
   "metadata": {},
   "outputs": [
    {
     "name": "stdout",
     "output_type": "stream",
     "text": [
      "30\n"
     ]
    }
   ],
   "source": [
    "def hap(num1, num2):\n",
    "    return num1+num2\n",
    "print(hap(10,20))"
   ]
  },
  {
   "cell_type": "code",
   "execution_count": 11,
   "id": "f5c3c1ba",
   "metadata": {},
   "outputs": [
    {
     "name": "stdout",
     "output_type": "stream",
     "text": [
      "30\n"
     ]
    }
   ],
   "source": [
    "hap=lambda num1, num2 : num1+num2\n",
    "print(hap(10,20))"
   ]
  },
  {
   "cell_type": "code",
   "execution_count": 12,
   "id": "ed089a66",
   "metadata": {},
   "outputs": [
    {
     "name": "stdout",
     "output_type": "stream",
     "text": [
      "[11, 12, 13, 14, 15]\n"
     ]
    }
   ],
   "source": [
    "mylist=[1,2,3,4,5]\n",
    "\n",
    "def add10(num):\n",
    "    return num+10\n",
    "\n",
    "for idx, val in enumerate(mylist):\n",
    "    mylist[idx]=add10(val)\n",
    "print(mylist)"
   ]
  },
  {
   "cell_type": "code",
   "execution_count": 16,
   "id": "0700e1fe",
   "metadata": {},
   "outputs": [
    {
     "name": "stdout",
     "output_type": "stream",
     "text": [
      "[11, 12, 13, 14, 15, 16, 17, 18, 19, 20]\n"
     ]
    }
   ],
   "source": [
    "mylist=[1,2,3,4,5,6,7,8,9,10]\n",
    "\n",
    "#add10=lambda num: num+10\n",
    "\n",
    "mylist=list(map(lambda num: num+10, mylist))\n",
    "\n",
    "print(mylist)"
   ]
  },
  {
   "cell_type": "code",
   "execution_count": 25,
   "id": "547deb61",
   "metadata": {},
   "outputs": [
    {
     "name": "stdout",
     "output_type": "stream",
     "text": [
      "[2, 4, 6, 8, 10]\n"
     ]
    }
   ],
   "source": [
    "mylist=[1,2,3,4,5]\n",
    "\n",
    "\n",
    "mylist=list(map(lambda num: num*2, mylist))\n",
    "\n",
    "print(mylist)"
   ]
  },
  {
   "cell_type": "code",
   "execution_count": null,
   "id": "2cb6665a",
   "metadata": {},
   "outputs": [],
   "source": []
  },
  {
   "cell_type": "code",
   "execution_count": 20,
   "id": "2a833e43",
   "metadata": {},
   "outputs": [
    {
     "name": "stdout",
     "output_type": "stream",
     "text": [
      "[1, 2, '3', 4, 5, '6', 7, 8, '9', 10]\n"
     ]
    }
   ],
   "source": [
    "mylist=[1,2,3,4,5,6,7,8,9,10]\n",
    "\n",
    "def scon(x):\n",
    "    if x%3==0 : return str(x)\n",
    "    else: return x\n",
    "\n",
    "for i,v in enumerate(mylist): \n",
    "    mylist[i]=scon(v)\n",
    "\n",
    "print(mylist)"
   ]
  },
  {
   "cell_type": "code",
   "execution_count": 23,
   "id": "4fe2f9f9",
   "metadata": {},
   "outputs": [
    {
     "name": "stdout",
     "output_type": "stream",
     "text": [
      "[1, 2, '3', 4, 5, '6', 7, 8, '9', 10]\n"
     ]
    }
   ],
   "source": [
    "mylist=[1,2,3,4,5,6,7,8,9,10]\n",
    "mylist=[str(x) if x%3==0 else x for x in mylist]\n",
    "print(mylist)"
   ]
  },
  {
   "cell_type": "code",
   "execution_count": 24,
   "id": "d51efb84",
   "metadata": {},
   "outputs": [
    {
     "name": "stdout",
     "output_type": "stream",
     "text": [
      "[1, 2, '3', 4, 5, '6', 7, 8, '9', 10]\n"
     ]
    }
   ],
   "source": [
    "mylist=[1,2,3,4,5,6,7,8,9,10]\n",
    "scon=lambda x: str(x) if x%3==0 else x\n",
    "mylist=list(map(scon, mylist))\n",
    "print(mylist)"
   ]
  },
  {
   "cell_type": "code",
   "execution_count": null,
   "id": "40b98ba4",
   "metadata": {},
   "outputs": [],
   "source": []
  }
 ],
 "metadata": {
  "kernelspec": {
   "display_name": "Python 3 (ipykernel)",
   "language": "python",
   "name": "python3"
  },
  "language_info": {
   "codemirror_mode": {
    "name": "ipython",
    "version": 3
   },
   "file_extension": ".py",
   "mimetype": "text/x-python",
   "name": "python",
   "nbconvert_exporter": "python",
   "pygments_lexer": "ipython3",
   "version": "3.8.10"
  }
 },
 "nbformat": 4,
 "nbformat_minor": 5
}
