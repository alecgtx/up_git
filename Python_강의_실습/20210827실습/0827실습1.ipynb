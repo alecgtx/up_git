{
 "cells": [
  {
   "cell_type": "code",
   "execution_count": null,
   "id": "16fb9144",
   "metadata": {},
   "outputs": [],
   "source": [
    "def f(x):\n",
    "    return x > 5 and x < 10\n",
    "mylist = [8,3,2,10,15,7,1,9,0,11]\n",
    "list(filter(f, mylist))"
   ]
  },
  {
   "cell_type": "code",
   "execution_count": null,
   "id": "c1fe7a3a",
   "metadata": {},
   "outputs": [],
   "source": [
    "mylist = [8,3,2,10,15,7,1,9,0,11]\n",
    "def f(x):\n",
    "    return x > 5 and x < 10\n",
    "\n",
    "print('filter--->', list(filter(f, mylist)))\n",
    "print('map   --->', list(map(f, mylist)))"
   ]
  },
  {
   "cell_type": "markdown",
   "id": "efedd8eb",
   "metadata": {},
   "source": [
    "### 재귀호출"
   ]
  },
  {
   "cell_type": "code",
   "execution_count": null,
   "id": "e7aae4a7",
   "metadata": {},
   "outputs": [],
   "source": [
    "def count(num):\n",
    "    if num >=1:\n",
    "        print(num, end=' ')\n",
    "        count(num -1)\n",
    "    else:\n",
    "        return\n",
    "n=int(input('카운트 셀 숫자: '))\n",
    "\n",
    "count(n)"
   ]
  },
  {
   "cell_type": "code",
   "execution_count": null,
   "id": "65f40afe",
   "metadata": {},
   "outputs": [],
   "source": [
    "inStr = '''코스모스는 과거에 있었고, 현재에 있으며, 미래에 있을 그 모든 것이다.\n",
    "우리는 코스모스의 일부다.\n",
    "이것은 결코 시적 수사가 아니다.'''\n",
    "# 방법1:\n",
    "def  letterCount():\n",
    "    global inStr\n",
    "    countDic = {}\n",
    "    countList=[]\n",
    "    # 글자:빈도수 딕셔너리 만들기\n",
    "    for char in inStr:\n",
    "        if char >= '가' and char <='힣':\n",
    "            if char in countDic:\n",
    "                countDic[char] += 1\n",
    "            else:\n",
    "                countDic[char] = 1\n",
    "    # 정렬하기\n",
    "    # 방법 1\n",
    "    countList = sorted(countDic.items(), key=lambda x: x[1], reverse=True)\n",
    "    # 방법 2\n",
    "    import operator\n",
    "    countList = sorted(countDic.items(), key=operator.itemgetter(1), reverse=True)\n",
    "    return countList\n",
    "print(letterCount())"
   ]
  },
  {
   "cell_type": "code",
   "execution_count": null,
   "id": "e3b877b6",
   "metadata": {},
   "outputs": [],
   "source": [
    "  # 방법 2\n",
    "    \n",
    "from collections import Counter\n",
    "counter = Counter(inStr)  # 딕셔너리타입\n",
    "print(counter)\n",
    "# 가장 많이 나타난 2개를 출력한다\n",
    "print(counter.most_common(n=2))"
   ]
  },
  {
   "cell_type": "code",
   "execution_count": null,
   "id": "fccc3b33",
   "metadata": {},
   "outputs": [],
   "source": [
    "class Car :\n",
    "    speed = 0\n",
    "    def upSpeed(self, value):\n",
    "        self.speed +=value\n",
    "        print(\"현재 속도(슈퍼 클래스) : %d\" % self.speed)\n",
    "class Sedan(Car) :\n",
    "    def upSpeed(self, value):\n",
    "        self.speed += value\n",
    "        if self.speed > 150 :\n",
    "            self.speed = 150\n",
    "            print(\"현재 속도(서브 클래스) : %d\" % self.speed)\n",
    "class Truck(Car):\n",
    "    pass\n",
    "class Sonata(Sedan):\n",
    "    pass\n",
    "sedan1, truck1, sonata1 = None,None,None\n",
    "truck1 = Truck()\n",
    "sedan1 = Sedan()\n",
    "sonata1 = Sonata()\n",
    "print(\"트럭  ===>\", end =\" \")\n",
    "truck1.upSpeed(200)\n",
    "print(\"승용차  ===>\", end =\" \")\n",
    "sedan1.upSpeed(200)\n",
    "print(\"소나타  ===>\", end =\" \")\n",
    "sonata1.upSpeed(200)"
   ]
  },
  {
   "cell_type": "code",
   "execution_count": 8,
   "id": "8e9449dc",
   "metadata": {},
   "outputs": [
    {
     "name": "stdout",
     "output_type": "stream",
     "text": [
      "#제인의 장바구니\n",
      "--------------------\n",
      "바나나 3000 2\n",
      "라면 4000 1\n",
      "** 전체가격 = 10000 전체수량 = 2\n",
      "--------------------\n",
      "\n",
      "#대원의 장바구니\n",
      "--------------------\n",
      "라면 4000 2\n",
      "** 전체가격 = 8000 전체수량 = 1\n",
      "--------------------\n",
      "\n"
     ]
    }
   ],
   "source": [
    "class Basket:\n",
    "    \n",
    "    def __init__(self,id):\n",
    "        self.id=id\n",
    "        self.items=[]\n",
    "        self.prices=[]\n",
    "        self.qtys=[]\n",
    "        self.totalPrice=0\n",
    "        self.itemCnt=0\n",
    "        \n",
    "    def add(self,item, price, qty):\n",
    "        self.items.append(item)\n",
    "        self.prices.append(price)\n",
    "        self.qtys.append(qty)\n",
    "        self.totalPrice+=price*qty\n",
    "        self.itemCnt+=1\n",
    "        \n",
    "    def delete(self,item, qty):\n",
    "        for i, v in enumerate(self.items):\n",
    "            if item==self.items[i]:\n",
    "                self.qtys[i]-=qty\n",
    "                self.totalPrice-=self.prices[i]*qty\n",
    "                if self.qtys[i]==0:\n",
    "                    self.itemCnt-=1\n",
    "                    del (self.items[i])\n",
    "                    del (self.prices[i])\n",
    "                    del (self.qtys[i])\n",
    "               \n",
    "    def printitems(self):\n",
    "        print(f'#{self.id}의 장바구니')\n",
    "        print('-'*20)\n",
    "        for i, v in enumerate(self.items):\n",
    "            print(f'{v} {self.prices[i]} {self.qtys[i]}')\n",
    "        print(f'** 전체가격 = {self.totalPrice} 전체수량 = {self.itemCnt}')\n",
    "        print('-'*20)\n",
    "        print()\n",
    "\n",
    "          \n",
    "basket1=Basket('제인')\n",
    "basket2=Basket('대원') \n",
    "\n",
    "\n",
    "basket1.add('바나나', 3000, 2)\n",
    "basket1.add('우유', 2500, 2)\n",
    "basket1.add('라면', 4000, 1)\n",
    "basket2.add('라면', 4000, 2)\n",
    "basket1.delete('우유', 2)\n",
    "\n",
    "\n",
    "basket1.printitems()\n",
    "basket2.printitems()\n",
    "    "
   ]
  },
  {
   "cell_type": "code",
   "execution_count": null,
   "id": "03e649e9",
   "metadata": {},
   "outputs": [],
   "source": [
    "class Basket:\n",
    "    def __init__(self, id):\n",
    "        self.id = id\n",
    "        self.바구니={}\n",
    "    def add(self, item, price, qty):\n",
    "        self.바구니[item]=[price,qty]\n",
    "    def delete(self, item, qty):\n",
    "        self.바구니[item][1] -= qty\n",
    "    def printitems(self):\n",
    "        print(f'# {self.id}의 장바구니')\n",
    "        print('-'*30)\n",
    "        total = 0\n",
    "        cnt = len(self.바구니)\n",
    "        for key in self.바구니:\n",
    "            print(f'* {key:10} {self.바구니[key][0]} {self.바구니[key][1]}')\n",
    "            total += self.바구니[key][0] * self.바구니[key][1]\n",
    "        print(f'** 전체가격 =  {total} 전체 수량 = {cnt}')\n",
    "basket1 = Basket(\"제인\")\n",
    "basket2 = Basket(\"대원\")\n",
    "basket1.add('바나나',3000,2)\n",
    "basket1.add('우유',2500,2)\n",
    "basket1.add('라면',4000,1)\n",
    "basket2.add('라면',4000, 2)\n",
    "basket1.delete('우유',1)\n",
    "basket1.printitems()\n",
    "basket2.printitems()"
   ]
  },
  {
   "cell_type": "code",
   "execution_count": null,
   "id": "7c88c919",
   "metadata": {},
   "outputs": [],
   "source": []
  }
 ],
 "metadata": {
  "kernelspec": {
   "display_name": "Python 3 (ipykernel)",
   "language": "python",
   "name": "python3"
  },
  "language_info": {
   "codemirror_mode": {
    "name": "ipython",
    "version": 3
   },
   "file_extension": ".py",
   "mimetype": "text/x-python",
   "name": "python",
   "nbconvert_exporter": "python",
   "pygments_lexer": "ipython3",
   "version": "3.8.10"
  }
 },
 "nbformat": 4,
 "nbformat_minor": 5
}
